{
 "cells": [
  {
   "cell_type": "markdown",
   "metadata": {},
   "source": [
    "# **AM 207**: Homework 2"
   ]
  },
  {
   "cell_type": "markdown",
   "metadata": {},
   "source": [
    "Verena Kaynig-Fittkau and Pavlos Protopapas  <br>\n",
    "**Due: 11.59 P.M. Thursday March 3rd, 2015**"
   ]
  },
  {
   "cell_type": "markdown",
   "metadata": {},
   "source": [
    "### Instructions:\n",
    "\n",
    "+ Upload your answers in an ipython notebook to Canvas.\n",
    "\n",
    "+ We will provide you imports for your ipython notebook. Please do not import additional libraries.\n",
    "\n",
    "+ Your individual submissions should use the following filenames: AM207_YOURNAME_HW2.ipynb\n",
    "\n",
    "+ Your code should be in code cells as part of your ipython notebook. Do not use a different language (or format). \n",
    "\n",
    "+ **Do not just send your code. The homework solutions should be in a report style. Be sure to add comments to your code as well as markdown cells where you describe your approach and discuss your results. **\n",
    "\n",
    "+ Please submit your notebook in an executed status, so that we can see all the results you computed. However, we will still run your code and all cells should reproduce the output when executed. \n",
    "\n",
    "+ If you have multiple files (e.g. you've added code files or images) create a tarball for all files in a single file and name it: AM207_YOURNAME_HW2.tar.gz or AM207_YOURNAME_HW2.zip\n",
    "\n",
    "\n",
    "### Have Fun!\n",
    "_ _ _ _ _"
   ]
  },
  {
   "cell_type": "code",
   "execution_count": 1,
   "metadata": {
    "collapsed": false
   },
   "outputs": [
    {
     "name": "stderr",
     "output_type": "stream",
     "text": [
      "/Users/charlesliu/anaconda/lib/python2.7/site-packages/matplotlib/__init__.py:872: UserWarning: axes.color_cycle is deprecated and replaced with axes.prop_cycle; please use the latter.\n",
      "  warnings.warn(self.msg_depr % (key, alt_key))\n"
     ]
    }
   ],
   "source": [
    "import numpy as np\n",
    "import matplotlib\n",
    "import matplotlib.pyplot as plt\n",
    "%matplotlib inline\n",
    "\n",
    "import seaborn as sns\n",
    "sns.set_style(\"white\")\n",
    "\n",
    "import time\n",
    "import timeit\n",
    "\n",
    "import scipy.stats \n",
    "import pandas as pd\n",
    "import pymc as pm\n",
    "\n",
    "import re\n",
    "import numpy as np"
   ]
  },
  {
   "cell_type": "markdown",
   "metadata": {},
   "source": [
    "# Problem 1: Geweke Convergence Test\n",
    "\n",
    "In the lecture we have seen the Geweke test as one option to test for convergence of our metropolis hastings chain. Describe in your own words how the Geweke test works and its limitations. \n",
    "\n",
    "We provide you with the following code for the Geweke test. Write comments for the marked lines and any lines you think would be good to explain in addition. \n",
    "\n",
    "Write a short explanation of what the `rhot` function does and why it is necessary. "
   ]
  },
  {
   "cell_type": "code",
   "execution_count": 2,
   "metadata": {
    "collapsed": true
   },
   "outputs": [],
   "source": [
    "\"\"\"\n",
    "The goal of an MCMC chain is to simulate a target posterior distribution.\n",
    "However, early in the chain the target distribution has not been converged yet.\n",
    "The idea behind the Geweke test is to compare the distributions from the early\n",
    "part of a chain to the later part of the chain - if they are \"similar\" then at\n",
    "some point in the early part of the chain there was convergence to the distribution.\n",
    "\n",
    "The rhot portion of the code is related to finding the variance of the subchains.\n",
    "There is cross-correlation between the two chains we're comparing that is related\n",
    "to the time lag between them. To calculate an adjusted estimate of the variance,\n",
    "we have to calculate this summation of correlations within the subchains that gets\n",
    "multiplied to our naive variance.\n",
    "\"\"\"\n",
    "# calculates the correlation between the first len(x)-t elements and the last len(x)-t elements\n",
    "def rhot(x, t):\n",
    "    n = len(x)\n",
    "    return np.corrcoef(x[0:(n-t)], x[t:n])[0,1]\n",
    "\n",
    "# Function definition of Geweke convergence test\n",
    "def Geweke(trace, intervals, length):\n",
    "    nsl=length\n",
    "    # how many elements to increment after every interval\n",
    "    jump = int(0.9*len(trace)/(2*intervals))\n",
    "    # how many elements to ignore from the beginning of the chain\n",
    "    first = 0.1*len(trace)\n",
    "    \n",
    "    z =np.empty(intervals)\n",
    "    # loop through to calculate geweke values intervals number of times\n",
    "    for k in np.arange(0, intervals):\n",
    "        # index for start of early chain\n",
    "        baga = np.int(first+k*jump)\n",
    "        # index for start of later chain\n",
    "        bagb = len(trace)/2 + k*jump\n",
    "        \n",
    "        # getting the subchains to compare\n",
    "        sub_trace_a = trace[baga:baga+nsl]\n",
    "        sub_trace_b = trace[bagb:bagb+nsl]\n",
    "        \n",
    "        # getting the means of the subchains\n",
    "        theta_a = np.mean(sub_trace_a)\n",
    "        theta_b = np.mean(sub_trace_b)\n",
    "        rho_a, rho_b = 1.0, 1.0\n",
    "        # loop for adding correlations to adjust for autocorrelation\n",
    "        for i in xrange(int(0.1*nsl)):\n",
    "            # calculate correlations of front (i+1)/back (i+1) of subchains\n",
    "            rho_a += 2*rhot(sub_trace_a, i+1)\n",
    "            rho_b += 2*rhot(sub_trace_b, i+1)\n",
    "            \n",
    "        # autocorrelation adjusted estimates of variance of two subchains\n",
    "        var_a  = np.var(sub_trace_a)*rho_a/length\n",
    "        var_b  = np.var(sub_trace_b)*rho_b/length\n",
    "        \n",
    "        # z-score for the geweke test\n",
    "        z[k] = (theta_a-theta_b)/np.sqrt( var_a + var_b)\n",
    "    \n",
    "    return z\n"
   ]
  },
  {
   "cell_type": "markdown",
   "metadata": {},
   "source": [
    "# Problem 2: Message Response Times\n",
    "\n",
    "The file `hangout_chat_data.csv` contains the response times of your friend Mark to google hangout chat messages in seconds. Use a method of your choice to read the file into a data frame or a numpy array. Your goal for this problem is to model Mark's chat response time distribution in a Bayesian framework. \n",
    "\n",
    "The description of the data sounds like a Poisson distribution is a good choice for our likelihood. We have messages arriving independently of each other, and instead of the arrival time we consider the time it took Mark to respond to the messages. \n",
    "\n",
    "* Load and describe the data by plotting a histogram of the response times. \n",
    "* Derive and compute the maximum likelihood solution for a Poisson distribution.\n",
    "* Compare this to the Bayesian solution with a prior of your choice and using your own implementation of Metropolis Hastings to sample from the posterior. Make sure to describe why you chose this prior, as well as the specifics of your Metropolis Hastings implementation. \n",
    "\n",
    "* Analyze your sampling using traceplots and convergence tests. You can use the Geweke implementation given above. \n",
    "* Compare your solution to a solution using the MCMC class in pymc and write a brief discussion. Which parameters does your implementation need that the pymc implementation can do without? How do the traceplots compare? \n",
    "\n",
    "* Check your ML solution and the Bayesian solution against the data. If you know how you can use the posterior predictive for the Bayesian solution, otherwise you can use the MAP estimate or the expectation value of the posterior and compare that distribution to the data histogram. \n",
    "\n",
    "* Was our model a good choice for this problem? If yes great, if not, come up with a different Bayesian model that is better capable of capturing the data and show that it works better. \n"
   ]
  },
  {
   "cell_type": "code",
   "execution_count": 3,
   "metadata": {
    "collapsed": false
   },
   "outputs": [
    {
     "data": {
      "text/plain": [
       "(array([ 41.,  70.,  44.,  33.,  27.,  23.,   9.,   5.,   8.,   6.]),\n",
       " array([  0. ,   5.9,  11.8,  17.7,  23.6,  29.5,  35.4,  41.3,  47.2,\n",
       "         53.1,  59. ]),\n",
       " <a list of 10 Patch objects>)"
      ]
     },
     "execution_count": 3,
     "metadata": {},
     "output_type": "execute_result"
    },
    {
     "data": {
      "image/png": "[encoded data removed]",
      "text/plain": [
       "<matplotlib.figure.Figure at 0x10f70ca10>"
      ]
     },
     "metadata": {},
     "output_type": "display_data"
    }
   ],
   "source": [
    "respTimes = np.loadtxt(\"hangout_chat_data.csv\")\n",
    "plt.xlabel(\"Response Times\")\n",
    "plt.ylabel(\"Frequency\")\n",
    "plt.hist(respTimes)"
   ]
  },
  {
   "cell_type": "markdown",
   "metadata": {},
   "source": [
    "The distribution is centered around 10-20 seconds with some tail distribution on the longer response time up to 60 seconds"
   ]
  },
  {
   "cell_type": "markdown",
   "metadata": {},
   "source": [
    "Each response follows a Poisson distribution where for $s$ seconds, $P(s) = \\frac{e^{-\\lambda}\\lambda^s}{s!}$.\n",
    "Likelihood of our data of $N$ i.i.d Poisson variables $s_1, s_2, ..., s_n$ is then:\n",
    "\n",
    "$L(data|\\lambda) = \\frac{e^{-\\lambda}\\lambda^{s_1}}{s_1!}*\\frac{e^{-\\lambda}\\lambda^{s_2}}{s_2!}*...*\\frac{e^{-\\lambda}\\lambda^{s_n}}{s_n!}$\n",
    "\n",
    "$logL(data|\\lambda) = -N\\lambda + (\\sum_i s_i)log\\lambda - \\sum_i log(s_i!)$              (Eq 1)\n",
    "\n",
    "Taking the derivative w.r.t. $\\lambda$ we get:\n",
    "\n",
    "$0 = -N + \\frac{\\sum_is_i}{\\lambda} => \\lambda = \\frac{\\sum_i s_i}{N}$\n",
    "\n",
    "The second derivative results in $-\\lambda^{-2}\\sum_i s_i$, which since data points are always positive is a global optimum"
   ]
  },
  {
   "cell_type": "code",
   "execution_count": 4,
   "metadata": {
    "collapsed": false
   },
   "outputs": [
    {
     "data": {
      "text/plain": [
       "18.041353383458645"
      ]
     },
     "execution_count": 4,
     "metadata": {},
     "output_type": "execute_result"
    }
   ],
   "source": [
    "#MLE of lambda is just the average of our data points\n",
    "MLE = np.mean(respTimes)\n",
    "MLE"
   ]
  },
  {
   "cell_type": "markdown",
   "metadata": {},
   "source": [
    "We use Jeffrey's prior for the Poisson because of its invariant properties, which is $\\lambda^{-0.5}$. The log of the posterior distribution is then $-.5log(\\lambda) - N\\lambda + (\\sum_i s_i)log\\lambda - \\sum_i log(s_i!)$ (from Eq 1)"
   ]
  },
  {
   "cell_type": "code",
   "execution_count": 5,
   "metadata": {
    "collapsed": true
   },
   "outputs": [],
   "source": [
    "\"\"\"\n",
    "Log posterior function\n",
    "\"\"\"\n",
    "#constant for the sum of response times\n",
    "respSum = np.sum(respTimes)\n",
    "#constant for sum of response time factorials\n",
    "factSum = np.sum(map(lambda x: np.sum(map(lambda y: np.log(y), np.arange(1, x+1))), respTimes))\n",
    "def posterior(l):\n",
    "    return -.5*np.log(l)-len(respTimes)*l + respSum*np.log(l) - factSum"
   ]
  },
  {
   "cell_type": "code",
   "execution_count": 6,
   "metadata": {
    "collapsed": true
   },
   "outputs": [],
   "source": [
    "\"\"\"\n",
    "Now we write our metropolis code using a normal dist with std dev 1 as proposal\n",
    "\"\"\"\n",
    "def metropolis(iterations):\n",
    "    #chain of values\n",
    "    trace = np.empty(iterations+1)\n",
    "    #initialize lambda to be 1\n",
    "    trace[0] = 1\n",
    "    #current probability of lambda\n",
    "    curr_prob = posterior(trace[0])\n",
    "    for i in range(iterations):\n",
    "        #proposed new value\n",
    "        theta = np.random.normal(trace[i], 1)\n",
    "        #new probability\n",
    "        prob = posterior(theta)\n",
    "        #acceptance probability\n",
    "        accept_prob = prob - curr_prob\n",
    "        if np.log(np.random.rand()) < accept_prob:\n",
    "            trace[i+1] = theta\n",
    "            curr_prob = prob\n",
    "        else:\n",
    "            trace[i+1] = trace[i]\n",
    "    return trace"
   ]
  },
  {
   "cell_type": "code",
   "execution_count": 7,
   "metadata": {
    "collapsed": false
   },
   "outputs": [
    {
     "data": {
      "text/plain": [
       "[<matplotlib.lines.Line2D at 0x10f7c2dd0>]"
      ]
     },
     "execution_count": 7,
     "metadata": {},
     "output_type": "execute_result"
    },
    {
     "data": {
      "image/png": "[encoded data removed]",
      "text/plain": [
       "<matplotlib.figure.Figure at 0x104a24d90>"
      ]
     },
     "metadata": {},
     "output_type": "display_data"
    }
   ],
   "source": [
    "plt.xlabel(\"Iteration\")\n",
    "plt.ylabel(\"Lambda\")\n",
    "trace = metropolis(1000)\n",
    "plt.plot(range(1001), trace)"
   ]
  },
  {
   "cell_type": "markdown",
   "metadata": {},
   "source": [
    "We see lambda move towards the MLE that we obtained analytically in under 100 iterations and remain around there"
   ]
  },
  {
   "cell_type": "code",
   "execution_count": 8,
   "metadata": {
    "collapsed": false
   },
   "outputs": [
    {
     "data": {
      "image/png": "[encoded data removed]",
      "text/plain": [
       "<matplotlib.figure.Figure at 0x10fb65e10>"
      ]
     },
     "metadata": {},
     "output_type": "display_data"
    }
   ],
   "source": [
    "\"\"\"\n",
    "Look at geweke score plot\n",
    "\"\"\"\n",
    "geweke_scores = pm.geweke(trace[:], first =0.1, last=0.5, intervals=20)\n",
    "pm.Matplot.geweke_plot(geweke_scores, \"lambda\")"
   ]
  },
  {
   "cell_type": "markdown",
   "metadata": {},
   "source": [
    "Our Geweke plot doesn't seem to look like it's converging, let's try a larger number of iterations"
   ]
  },
  {
   "cell_type": "code",
   "execution_count": 10,
   "metadata": {
    "collapsed": false
   },
   "outputs": [
    {
     "name": "stdout",
     "output_type": "stream",
     "text": [
      "Estimated lambda: 18.0168504945\n",
      "Estimated std dev: 0.656081072861\n"
     ]
    },
    {
     "data": {
      "image/png": "[encoded data removed]",
      "text/plain": [
       "<matplotlib.figure.Figure at 0x1111ca610>"
      ]
     },
     "metadata": {},
     "output_type": "display_data"
    },
    {
     "data": {
      "image/png": "[encoded data removed]",
      "text/plain": [
       "<matplotlib.figure.Figure at 0x111514b90>"
      ]
     },
     "metadata": {},
     "output_type": "display_data"
    }
   ],
   "source": [
    "plt.xlabel(\"Iteration\")\n",
    "plt.ylabel(\"Lambda\")\n",
    "trace = metropolis(10000)\n",
    "print \"Estimated lambda:\", np.mean(trace)\n",
    "print \"Estimated std dev:\", np.std(trace)\n",
    "plt.plot(range(10001), trace)\n",
    "geweke_scores = pm.geweke(trace[:], first =0.1, last=0.5, intervals=20)\n",
    "pm.Matplot.geweke_plot(geweke_scores, \"alpha\")"
   ]
  },
  {
   "cell_type": "markdown",
   "metadata": {},
   "source": [
    "Our estimate is fairly close to the analytical solution, and all data points are within 2 std deviations. However, the z-scores are fairly spread out. Let's compare this to using pymc"
   ]
  },
  {
   "cell_type": "code",
   "execution_count": 11,
   "metadata": {
    "collapsed": false
   },
   "outputs": [
    {
     "name": "stdout",
     "output_type": "stream",
     "text": [
      " [-----------------100%-----------------] 10000 of 10000 complete in 0.7 sec"
     ]
    }
   ],
   "source": [
    "wait_mean = pm.Exponential('wait_mean', beta=1.)\n",
    "response_times = pm.Poisson('response_times', mu=wait_mean, value=respTimes, observed=True)\n",
    "resp_model = pm.Model([wait_mean, response_times])\n",
    "mcmc = pm.MCMC(resp_model)\n",
    "mcmc.sample(iter=10000, burn=0)"
   ]
  },
  {
   "cell_type": "code",
   "execution_count": 12,
   "metadata": {
    "collapsed": false
   },
   "outputs": [
    {
     "name": "stdout",
     "output_type": "stream",
     "text": [
      "Estimated lambda: 17.4077533257\n",
      "Estimated std dev: 2.58680659571\n"
     ]
    },
    {
     "data": {
      "image/png": "[encoded data removed]",
      "text/plain": [
       "<matplotlib.figure.Figure at 0x111171490>"
      ]
     },
     "metadata": {},
     "output_type": "display_data"
    },
    {
     "data": {
      "image/png": "[encoded data removed]",
      "text/plain": [
       "<matplotlib.figure.Figure at 0x1115c0950>"
      ]
     },
     "metadata": {},
     "output_type": "display_data"
    }
   ],
   "source": [
    "plt.xlabel(\"Iteration\")\n",
    "plt.ylabel(\"Lambda\")\n",
    "trace = wait_mean.trace()\n",
    "print \"Estimated lambda:\", np.mean(trace)\n",
    "print \"Estimated std dev:\", np.std(trace)\n",
    "plt.plot(range(10000), trace)\n",
    "geweke_scores = pm.geweke(trace[:], first =0.1, last=0.5, intervals=20)\n",
    "pm.Matplot.geweke_plot(geweke_scores, \"alpha\")"
   ]
  },
  {
   "cell_type": "markdown",
   "metadata": {},
   "source": [
    "The results from pymc were very similar to using Jeffrey's prior. With Jeffrey's prior there isn't any extra parameters that we have to deal with like if we were to use a gamma prior. Using an exponential in the pymc is essentially using a gamma distribution without an alpha, but we still have a hyperparameter of beta that could be tuned. Both results had geweke scores within 2 std deviations, however there was some variation within the 2 standard deviations - they aren't extremely tight bounds."
   ]
  },
  {
   "cell_type": "code",
   "execution_count": 13,
   "metadata": {
    "collapsed": false
   },
   "outputs": [
    {
     "data": {
      "text/plain": [
       "<matplotlib.legend.Legend at 0x1115fba10>"
      ]
     },
     "execution_count": 13,
     "metadata": {},
     "output_type": "execute_result"
    },
    {
     "data": {
      "image/png": "[encoded data removed]",
      "text/plain": [
       "<matplotlib.figure.Figure at 0x111171090>"
      ]
     },
     "metadata": {},
     "output_type": "display_data"
    }
   ],
   "source": [
    "\"\"\"\n",
    "Sample from the Poisson distribution with lambda = MLE and compare to the true distribution\n",
    "\"\"\"\n",
    "plt.hist(respTimes, bins=np.arange(0, 60, 5), label=\"True\")\n",
    "plt.hist(np.random.poisson(MLE, len(respTimes)), bins=np.arange(0, 60, 5), label=\"MLE\")\n",
    "plt.legend()"
   ]
  },
  {
   "cell_type": "markdown",
   "metadata": {},
   "source": [
    "You can clearly see the issue with using strictly MLE - there is a large tail distribution for the true sample data which creates a slightly higher mean for the MLE. We then have a high concentration around that mean in the poisson distribution with not enough of a standard deviation."
   ]
  },
  {
   "cell_type": "code",
   "execution_count": 14,
   "metadata": {
    "collapsed": false
   },
   "outputs": [
    {
     "data": {
      "text/plain": [
       "<matplotlib.legend.Legend at 0x111b0d410>"
      ]
     },
     "execution_count": 14,
     "metadata": {},
     "output_type": "execute_result"
    },
    {
     "data": {
      "image/png": "[encoded data removed]",
      "text/plain": [
       "<matplotlib.figure.Figure at 0x1116ba610>"
      ]
     },
     "metadata": {},
     "output_type": "display_data"
    }
   ],
   "source": [
    "\"\"\"\n",
    "Sample from the Poisson distribution with lambda = E[posterior] and compare to the true distribution\n",
    "\"\"\"\n",
    "plt.hist(respTimes, bins=np.arange(0, 60, 5), label=\"True\")\n",
    "plt.hist(np.random.poisson(np.mean(trace), len(respTimes)), bins=np.arange(0, 60, 5), label=\"Bayesian\")\n",
    "plt.legend()"
   ]
  },
  {
   "cell_type": "markdown",
   "metadata": {},
   "source": [
    "It would seem the Poisson distribution doesn't have fat enough tails for what our data presents. Many exponential distributions may overall represent the data better, but the distribution must have a non-zero probability of returning 0 which is an issue for a lot of them. Couldn't find any distributions that fit that constraint."
   ]
  },
  {
   "cell_type": "markdown",
   "metadata": {},
   "source": [
    "# Problem 3: Markov Chains\n",
    "\n",
    "* Given the following transition matrix, examine if the corresponding Markov Chain is irreducible and aperiodic. Note: No formal proof necessary, but you should give a solid argumentation.\n",
    "\n",
    "$$ P = \\left( \n",
    "\\begin{array}{ccccc}\n",
    "0.0 & 0.4 & 0.6 & 0.0 & 0.0 \\\\\n",
    "0.65 & 0.0 & 0.35 & 0.0 & 0.0 \\\\\n",
    "0.32 & 0.68 & 0.0 & 0.0 & 0.0 \\\\\n",
    "0.0 & 0.0 & 0.0 & 0.12 & 0.88 \\\\\n",
    "0.0 & 0.0 & 0.0 & 0.56 & 0.44 \n",
    "\\end{array}\n",
    "\\right ) $$\n",
    "\n"
   ]
  },
  {
   "cell_type": "markdown",
   "metadata": {},
   "source": [
    "P is not irreducible - states 1,2,3 only have non-zero transition probabilities between them and likewise with states 4 and 5. "
   ]
  },
  {
   "cell_type": "code",
   "execution_count": 15,
   "metadata": {
    "collapsed": false
   },
   "outputs": [
    {
     "data": {
      "text/plain": [
       "matrix([[ 0.452 ,  0.408 ,  0.14  ,  0.    ,  0.    ],\n",
       "        [ 0.112 ,  0.498 ,  0.39  ,  0.    ,  0.    ],\n",
       "        [ 0.442 ,  0.128 ,  0.43  ,  0.    ,  0.    ],\n",
       "        [ 0.    ,  0.    ,  0.    ,  0.5072,  0.4928],\n",
       "        [ 0.    ,  0.    ,  0.    ,  0.3136,  0.6864]])"
      ]
     },
     "execution_count": 15,
     "metadata": {},
     "output_type": "execute_result"
    }
   ],
   "source": [
    "P = np.matrix([[0.0, 0.4, 0.6, 0.0, 0.0],\n",
    "               [0.65, 0.0, 0.35, 0.0, 0.0], \n",
    "               [0.32, 0.68, 0.0, 0.0, 0.0],\n",
    "               [0.0, 0.0, 0.0, 0.12, 0.88],\n",
    "               [0.0, 0.0, 0.0, 0.56, 0.44]])\n",
    "P**2"
   ]
  },
  {
   "cell_type": "code",
   "execution_count": 16,
   "metadata": {
    "collapsed": false
   },
   "outputs": [
    {
     "data": {
      "text/plain": [
       "matrix([[ 0.32987013,  0.34978355,  0.32034632,  0.        ,  0.        ],\n",
       "        [ 0.32987013,  0.34978355,  0.32034632,  0.        ,  0.        ],\n",
       "        [ 0.32987013,  0.34978355,  0.32034632,  0.        ,  0.        ],\n",
       "        [ 0.        ,  0.        ,  0.        ,  0.38888889,  0.61111111],\n",
       "        [ 0.        ,  0.        ,  0.        ,  0.38888889,  0.61111111]])"
      ]
     },
     "execution_count": 16,
     "metadata": {},
     "output_type": "execute_result"
    }
   ],
   "source": [
    "P**10000"
   ]
  },
  {
   "cell_type": "markdown",
   "metadata": {},
   "source": [
    "For n>1, $P(X_n = i | X_0 = i) > 0$ and eventually we can see an equilibrium transition matrix, which makes the markov chain aperiodic"
   ]
  },
  {
   "cell_type": "markdown",
   "metadata": {},
   "source": [
    "# Problem 4: The Evidence \n",
    "\n",
    "In lectures we mostly concentrate on the likelihood and the prior and regard the evidence as a mere normalization factor. However, the evidence can be quite useful. In this problem you will compare different models by computing the evidence for each model, aka the probability that randomly selected parameters from a given model class would generate the data $X$.\n",
    "\n",
    "As our models we compare polynomials of degree 0 to 4. For example for degree 2 we have $y = a_0 + a_1 \\cdot x + a_2 \\cdot x^2 + \\epsilon$ where $\\epsilon \\sim N(0, \\sigma) $ and $\\theta = [a_0, a_1, a_2, \\sigma]$. Assume that for all polynomials $a_i \\sim \\text{Expo}(1)$ and $\\sigma \\sim \\text{Inverse Gamma}(1,1)$.\n",
    "\n",
    "\n",
    "Bayes' theorem states that:\n",
    "$$\n",
    "P(\\theta|x)=\\frac{P(x|\\theta)P(\\theta)}{P(x)}\n",
    "$$\n",
    "$P(\\theta)$ is the prior, $P(x|\\theta)$ is the likelihood, $P(x)$ is called the evidence, and $P(\\theta|x)$ is the posterior.\n",
    "\n",
    "Your tasks are:\n",
    "\n",
    "* Write down the mathematical equation of the evidence in terms of the likelihood and the prior. You don't need to solve the integral analytically, just write down its formula.\n",
    "* Now you have the evidence in the form of an integral. Solve it by using importance sampling. What is a good choice for your importance sampling distribution?\n",
    "* Compare the evidence for polynomials of degree 0 to 4. Which polynomial wins?"
   ]
  },
  {
   "cell_type": "markdown",
   "metadata": {},
   "source": [
    "The evidence is $P(x) = \\int_{\\theta} P(x|\\theta) P(\\theta) d\\theta$. The integral is over all parameters in $\\theta$, so in the case of a degree 2 polynomial it is a integral over all bounds for $a_0, a_1, a_2, \\sigma$. Because it's a linear regression, $y \\sim N(a_0 + a_1x + ..., \\sigma)$, so we can sample our $\\theta$ and evaluate from the normal distribution"
   ]
  },
  {
   "cell_type": "code",
   "execution_count": 17,
   "metadata": {
    "collapsed": true
   },
   "outputs": [],
   "source": [
    "# Here is your data for the problem:\n",
    "data = np.array([[ -1.85519254,  -2.7009541 ],\n",
    "       [  4.38291824,  19.61735369],\n",
    "       [  2.29495208,   3.96481822],\n",
    "       [  0.02075668,   8.00646088],\n",
    "       [  0.54097177,   2.8872262 ]])\n",
    "\n",
    "x=data[:,0]\n",
    "y=data[:,1]"
   ]
  },
  {
   "cell_type": "code",
   "execution_count": 18,
   "metadata": {
    "collapsed": true
   },
   "outputs": [],
   "source": [
    "\"\"\"\n",
    "Integral of our function\n",
    "\"\"\"\n",
    "def poly_model(x,y,degree,n = 1000):\n",
    "    #probabilities\n",
    "    samples = np.zeros(n)\n",
    "    # get the exponential samples\n",
    "    exponentials = np.zeros((degree+1, n))\n",
    "    for i in range(degree+1):\n",
    "        exponentials[i, 0:] = np.random.exponential(1.0, n)\n",
    "    # get invgamma samples for normal\n",
    "    invgammas = scipy.stats.invgamma.rvs(a=1, size=n)\n",
    "    #we calculate the means for the different data points\n",
    "    norm_means = np.zeros((len(x), n))\n",
    "    for i in range(len(x)):\n",
    "        for j in range(degree+1):\n",
    "            norm_means[i, 0:] += exponentials[j, 0:]*(x[i]**j)\n",
    "    #we have normal distributions for each data point\n",
    "    #now need to get the samples from the multivariate normal\n",
    "    for i in range(n):\n",
    "        samples[i] = scipy.stats.multivariate_normal.pdf(y, norm_means[0:, i], invgammas[i])\n",
    "    return samples"
   ]
  },
  {
   "cell_type": "code",
   "execution_count": 19,
   "metadata": {
    "collapsed": false
   },
   "outputs": [
    {
     "name": "stdout",
     "output_type": "stream",
     "text": [
      "Outputs of (10000*mean, 10000*std)\n",
      "Poly model 0: (0.000003, 0.000017)\n",
      "Poly model 1: (0.000050, 0.000369)\n",
      "Poly model 2: (0.000171, 0.000856)\n",
      "Poly model 3: (0.000065, 0.000658)\n",
      "Poly model 4: (0.000002, 0.000089)\n"
     ]
    }
   ],
   "source": [
    "#run samples for each polynomial degree and output sample mean, which should be ~ P(x)\n",
    "print \"Outputs of (10000*mean, 10000*std)\"\n",
    "for i in range(5):\n",
    "    samples = poly_model(x,y,i, 10000)\n",
    "    print \"Poly model %d: (%f, %f)\" % (i, 10000*np.mean(samples), 10000*np.std(samples))"
   ]
  },
  {
   "cell_type": "markdown",
   "metadata": {},
   "source": [
    "The evidence is low across the board, so the outputs are multiplied by 10000 to get non-zero values. Polynomial 2 had the best evidence, it also had the highest std deviation though this is expected as the other values were practically 0."
   ]
  },
  {
   "cell_type": "markdown",
   "metadata": {},
   "source": [
    "# Problem 5: Which YouTube Videos to Watch\n",
    "\n",
    "Youtube videos have a like and an unlike flag. We can use these up and down votes on the videos to determine if a video is worth watching. However, it is not immediately obvious how to rank a video with just 3 up and 0 down rankings against a video with 300 up and 100 down votes. We will address this problem using a Bayesian approach.\n",
    "\n",
    "Build two Bayesian models for the average upvote rate of a video. Both models should use the same likelihood, but different priors. Use one prior where people in general are rather undecided about videos, and one where people tend to be very opinionated. Compare the resulting posteriors for each video. How does the different choice of prior change your results? \n",
    "\n",
    "Given that there are so many videos on YouTube we want a really conservative way to decide if it is worth watching. Compute the 5th percentile for the posterior of each video and rank the videos according to this value. Is the 5th percentile a good indicator for the ranking? What are the benefits, what are potential drawbacks?"
   ]
  },
  {
   "cell_type": "code",
   "execution_count": 20,
   "metadata": {
    "collapsed": false
   },
   "outputs": [],
   "source": [
    "# Here is the [upvote, downvote] data for 4 different videos:\n",
    "video_votes = np.array([[3,0],[300,100],[2,2],[200,100]])"
   ]
  },
  {
   "cell_type": "markdown",
   "metadata": {},
   "source": [
    "We want to use a prior distribution to estimate the probability of an upvote/downvote for a video.\n",
    "In the case of people being in general undecided about videos, a uniform [0,1] variable\n",
    "makes sense. For a distribution with people being opinionated, we want a distribution with\n",
    "peaks around 0 and 1 - the beta(0.5, 0.5) achieves that"
   ]
  },
  {
   "cell_type": "code",
   "execution_count": 21,
   "metadata": {
    "collapsed": false
   },
   "outputs": [
    {
     "data": {
      "text/plain": [
       "(array([ 1006.,   450.,   377.,   319.,   332.,   276.,   336.,   396.,\n",
       "          451.,  1057.]),\n",
       " array([  3.49192812e-07,   1.00000313e-01,   2.00000277e-01,\n",
       "          3.00000242e-01,   4.00000206e-01,   5.00000170e-01,\n",
       "          6.00000134e-01,   7.00000098e-01,   8.00000062e-01,\n",
       "          9.00000026e-01,   9.99999990e-01]),\n",
       " <a list of 10 Patch objects>)"
      ]
     },
     "execution_count": 21,
     "metadata": {},
     "output_type": "execute_result"
    },
    {
     "data": {
      "image/png": "[encoded data removed]",
      "text/plain": [
       "<matplotlib.figure.Figure at 0x1111713d0>"
      ]
     },
     "metadata": {},
     "output_type": "display_data"
    }
   ],
   "source": [
    "plt.hist(np.random.beta(.5, .5, 5000))"
   ]
  },
  {
   "cell_type": "code",
   "execution_count": 22,
   "metadata": {
    "collapsed": false
   },
   "outputs": [],
   "source": [
    "\"\"\"\n",
    "Use Pymc with our prior's above to run mcmc\n",
    "The mu for the likelihood is the probability we get from theta * number of videos\n",
    "\"\"\"\n",
    "def prior_uniform(up, down, samples=100000):\n",
    "    prior_theta = pm.Uniform('theta', lower = 0, upper = 1)\n",
    "    likelihood = pm.Poisson(\"observation\", mu=prior_theta*(up+down), value=up, observed=True)\n",
    "    mcmc = pm.MCMC([prior_theta, likelihood])\n",
    "    mcmc.sample(iter=samples, burn=samples / 4)\n",
    "    return mcmc\n",
    "\n",
    "def prior_beta(up, down, samples=100000):\n",
    "    prior_theta = pm.Beta('theta', alpha=0.5, beta=0.5)\n",
    "    likelihood = pm.Poisson(\"observation\", mu=prior_theta*(up+down), value=up, observed=True)\n",
    "    mcmc = pm.MCMC([prior_theta, likelihood])\n",
    "    mcmc.sample(iter=samples, burn=samples / 4)\n",
    "    return mcmc"
   ]
  },
  {
   "cell_type": "code",
   "execution_count": 23,
   "metadata": {
    "collapsed": false
   },
   "outputs": [
    {
     "name": "stdout",
     "output_type": "stream",
     "text": [
      " [-----------------100%-----------------] 100000 of 100000 complete in 5.7 sec\n",
      "Uniform Prior\n",
      "3 upvotes, 0 downvotes\n",
      "Estimated mean: 0.695796556417\n",
      "Estimated std: 0.203788107645\n",
      " [-----------------100%-----------------] 100000 of 100000 complete in 5.8 sec\n",
      "Beta Prior\n",
      "3 upvotes, 0 downvotes\n",
      "Estimated mean: 0.783739746326\n",
      "Estimated std: 0.208553949952\n",
      " [-----------------100%-----------------] 100000 of 100000 complete in 6.1 sec\n",
      "Uniform Prior\n",
      "300 upvotes, 100 downvotes\n",
      "Estimated mean: 0.752715862507\n",
      "Estimated std: 0.0431820814954\n",
      " [-----------------100%-----------------] 100000 of 100000 complete in 6.0 sec\n",
      "Beta Prior\n",
      "300 upvotes, 100 downvotes\n",
      "Estimated mean: 0.755185208778\n",
      "Estimated std: 0.0436892292015\n",
      " [-----------------100%-----------------] 100000 of 100000 complete in 5.6 sec\n",
      "Uniform Prior\n",
      "2 upvotes, 2 downvotes\n",
      "Estimated mean: 0.55526970287\n",
      "Estimated std: 0.230281163826\n",
      " [-----------------100%-----------------] 100000 of 100000 complete in 5.5 sec\n",
      "Beta Prior\n",
      "2 upvotes, 2 downvotes\n",
      "Estimated mean: 0.61102926272\n",
      "Estimated std: 0.268507985777\n",
      " [-----------------100%-----------------] 100000 of 100000 complete in 6.1 sec\n",
      "Uniform Prior\n",
      "200 upvotes, 100 downvotes\n",
      "Estimated mean: 0.670076113296\n",
      "Estimated std: 0.0469768382666\n",
      " [-----------------100%-----------------] 100000 of 100000 complete in 6.1 sec\n",
      "Beta Prior\n",
      "200 upvotes, 100 downvotes\n",
      "Estimated mean: 0.671973727338\n",
      "Estimated std: 0.0474096989021\n"
     ]
    }
   ],
   "source": [
    "#run our mcmc and get estimated thetas\n",
    "percentiles_uni = []\n",
    "percentiles_beta = []\n",
    "for v in video_votes:\n",
    "    test = prior_uniform(v[0], v[1])\n",
    "    theta = test.trace(\"theta\")[:]\n",
    "    print \"\\nUniform Prior\"\n",
    "    print \"%d upvotes, %d downvotes\" % (v[0], v[1])\n",
    "    print \"Estimated mean:\", np.mean(theta)\n",
    "    print \"Estimated std:\", np.std(theta)\n",
    "    percentiles_uni += [(v, np.percentile(theta, 5))]\n",
    "    \n",
    "    test = prior_beta(v[0], v[1])\n",
    "    theta = test.trace(\"theta\")[:]\n",
    "    print \"\\nBeta Prior\"\n",
    "    print \"%d upvotes, %d downvotes\" % (v[0], v[1])\n",
    "    print \"Estimated mean:\", np.mean(theta)\n",
    "    print \"Estimated std:\", np.std(theta)\n",
    "    percentiles_beta += [(v, np.percentile(theta, 5))]"
   ]
  },
  {
   "cell_type": "markdown",
   "metadata": {},
   "source": [
    "In each cell we get the estimated posteriors, i.e. most likely probability of getting an upvote given our data and according to our specified prior. Generally the beta prior resulted in slightly higher result than the uniform, as our dataset skewed towards more likely to have an upvote our beta reflected that more strongly than the uniform."
   ]
  },
  {
   "cell_type": "code",
   "execution_count": 24,
   "metadata": {
    "collapsed": false
   },
   "outputs": [
    {
     "name": "stdout",
     "output_type": "stream",
     "text": [
      "Uniform prior upvote sorting\n",
      "[(array([2, 2]), 0.18441838077560296), (array([3, 0]), 0.31871679606699543), (array([200, 100]), 0.59491698019117056), (array([300, 100]), 0.68375311628333346)]\n",
      "Beta prior upvote sorting\n",
      "[(array([2, 2]), 0.16800874924994463), (array([3, 0]), 0.36136404055760502), (array([200, 100]), 0.59529047537945057), (array([300, 100]), 0.68563866305230592)]\n"
     ]
    }
   ],
   "source": [
    "\"\"\"\n",
    "Sort and rank the videos by percentile\n",
    "\"\"\"\n",
    "print \"Uniform prior upvote sorting\"\n",
    "print sorted(percentiles_uni, key=lambda x: x[1])\n",
    "\n",
    "print \"Beta prior upvote sorting\"\n",
    "print sorted(percentiles_beta, key=lambda x: x[1])"
   ]
  },
  {
   "cell_type": "markdown",
   "metadata": {},
   "source": [
    "The ranking of the videos were consistent between the priors and make sense - the 2/2 upvote sorting got the lowest resulting 5% distribution of the theta at ~.18 and the 300/100 video had the highest as it has both a high proportion of upvotes compared to the others as well as a large number of votes.\n",
    "\n",
    "\n",
    "This type of system I imagine would work well on symmetric priors where the mean is still around .5, however if we were to skew our prior distribution for example to very likely to have a positive vote, the prior would influence the resulting probabilities so that there wouldn't be too much to differentiate the percentages. The rankings then would lead to more randomness as they'd all be very close."
   ]
  },
  {
   "cell_type": "code",
   "execution_count": null,
   "metadata": {
    "collapsed": true
   },
   "outputs": [],
   "source": []
  }
 ],
 "metadata": {
  "kernelspec": {
   "display_name": "Python 2",
   "language": "python",
   "name": "python2"
  },
  "language_info": {
   "codemirror_mode": {
    "name": "ipython",
    "version": 2
   },
   "file_extension": ".py",
   "mimetype": "text/x-python",
   "name": "python",
   "nbconvert_exporter": "python",
   "pygments_lexer": "ipython2",
   "version": "2.7.11"
  }
 },
 "nbformat": 4,
 "nbformat_minor": 0
}
