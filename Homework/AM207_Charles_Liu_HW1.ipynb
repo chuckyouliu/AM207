{
 "cells": [
  {
   "cell_type": "markdown",
   "metadata": {},
   "source": [
    "# **AM 207**: Homework 1"
   ]
  },
  {
   "cell_type": "markdown",
   "metadata": {},
   "source": [
    "Verena Kaynig-Fittkau and Pavlos Protopapas  <br>\n",
    "**Due: 11.59 P.M. Thursday February 18th, 2015**"
   ]
  },
  {
   "cell_type": "markdown",
   "metadata": {},
   "source": [
    "### Instructions:\n",
    "\n",
    "+ Upload your answers in an ipython notebook to Canvas.\n",
    "\n",
    "+ We will provide you imports for your ipython notebook. Please do not import additional libraries.\n",
    "\n",
    "+ Your individual submissions should use the following filenames: AM207_YOURNAME_HW1.ipynb\n",
    "\n",
    "+ Your code should be in code cells as part of your ipython notebook. Do not use a different language (or format). \n",
    "\n",
    "+ **Do not just send your code. The homework solutions should be in a report style. Be sure to add comments to your code as well as markdown cells where you describe your approach and discuss your results. **\n",
    "\n",
    "+ Please submit your notebook in an **executed** status, so that we can see all the results you computed. However, we will still run your code and all cells should reproduce the output when executed. \n",
    "\n",
    "+ If you have multiple files (e.g. you've added code files or images) create a tarball for all files in a single file and name it: AM207_YOURNAME_HW1.tar.gz or AM207_YOURNAME_HW1.zip\n",
    "\n",
    "\n",
    "### Have Fun!\n",
    "_ _ _ _ _"
   ]
  },
  {
   "cell_type": "code",
   "execution_count": 1,
   "metadata": {
    "collapsed": false
   },
   "outputs": [
    {
     "name": "stderr",
     "output_type": "stream",
     "text": [
      "/Users/charlesliu/anaconda/lib/python2.7/site-packages/matplotlib/__init__.py:872: UserWarning: axes.color_cycle is deprecated and replaced with axes.prop_cycle; please use the latter.\n",
      "  warnings.warn(self.msg_depr % (key, alt_key))\n"
     ]
    }
   ],
   "source": [
    "import numpy as np\n",
    "import matplotlib\n",
    "import matplotlib.pyplot as plt\n",
    "from mpl_toolkits.mplot3d import Axes3D\n",
    "%matplotlib inline\n",
    "\n",
    "import seaborn as sns\n",
    "sns.set_style(\"white\")\n",
    "\n",
    "import time\n",
    "\n",
    "import scipy.stats "
   ]
  },
  {
   "cell_type": "markdown",
   "metadata": {},
   "source": [
    "# Problem 1: By a Needles Length\n",
    "\n",
    "![Alt Buffon Needle](figures/Buffon_needle.gif)\n",
    "We discussed how to use Buffon's needle to estimate $\\pi$ during lecture, using the probability of the needle crossing a line of a floor tile. Using Monte Carlo simulation, estimate the probability of the needle crossing a floor line as a function of the needle's length. Assume that the distance between floor lines is 1 unit, and your needle manufacturer provides you with needles of different length in 0.1 increments with a maximum length of 1 unit. Plot a histogram of your results and compare your results to the analytical solution from the lecture:\n",
    "$$P = \\frac{2 \\cdot l}{t \\cdot \\pi}$$\n",
    "\n",
    "where $l$ is the length of the needle and $t$ is the distance beweent the floor tiles\n",
    "\n",
    "In a next step extend your simulation to a maximum needle length of 2 units, still using 0.1 increments. Compare your results to the same formula for the intersection. Why do your results now diverge from the analytical solution given above? What would you need to do to correct the analytical formula? It is ok to just describe the integral you need to solve analytically, and why it looks this way. No need to actually do the integration by hand. "
   ]
  },
  {
   "cell_type": "markdown",
   "metadata": {},
   "source": [
    "**Please answer this problem by adding cells here.**"
   ]
  },
  {
   "cell_type": "code",
   "execution_count": 5,
   "metadata": {
    "collapsed": true
   },
   "outputs": [],
   "source": [
    "\"\"\"\n",
    "First we define a function that takes in the needle length, tile length, and number of trials to run and\n",
    "outputs the average number of times a tile was crossed. All we need to randomize is the selection of the\n",
    "distance from the center of a needle to the closest line and the acute angle between the needle/line\n",
    "\"\"\"\n",
    "def isCrossed(x,n_length,theta):\n",
    "    if x <= np.sin(theta)*n_length/2.0:\n",
    "        return 1\n",
    "    return 0\n",
    "\n",
    "def buffon_trial(n_length, t_length, trials):\n",
    "    dists = np.random.uniform(low=0, high=t_length/2.0, size=trials)\n",
    "    angles = np.random.uniform(low=0, high=np.pi/2.0, size=trials)\n",
    "    crosses = map(lambda x: isCrossed(dists[x],n_length,angles[x]),np.arange(trials))\n",
    "    return np.mean(crosses)"
   ]
  },
  {
   "cell_type": "code",
   "execution_count": 26,
   "metadata": {
    "collapsed": false
   },
   "outputs": [
    {
     "name": "stdout",
     "output_type": "stream",
     "text": [
      "---------------------------\n",
      "Needle Length:  0.1\n",
      "---------------------------\n",
      "Exact:  0.0636619772368\n",
      "Mean:  0.063792\n",
      "Standard deviation:  0.00785192562369\n",
      "---------------------------\n",
      "---------------------------\n",
      "Needle Length:  0.2\n",
      "---------------------------\n",
      "Exact:  0.127323954474\n",
      "Mean:  0.127796\n",
      "Standard deviation:  0.0109487160891\n",
      "---------------------------\n",
      "---------------------------\n",
      "Needle Length:  0.3\n",
      "---------------------------\n",
      "Exact:  0.19098593171\n",
      "Mean:  0.191198\n",
      "Standard deviation:  0.0131767521036\n",
      "---------------------------\n",
      "---------------------------\n",
      "Needle Length:  0.4\n",
      "---------------------------\n",
      "Exact:  0.254647908947\n",
      "Mean:  0.254722\n",
      "Standard deviation:  0.0139003854623\n",
      "---------------------------\n",
      "---------------------------\n",
      "Needle Length:  0.5\n",
      "---------------------------\n",
      "Exact:  0.318309886184\n",
      "Mean:  0.318893\n",
      "Standard deviation:  0.0150147777539\n",
      "---------------------------\n",
      "---------------------------\n",
      "Needle Length:  0.6\n",
      "---------------------------\n",
      "Exact:  0.381971863421\n",
      "Mean:  0.382241\n",
      "Standard deviation:  0.0151111521401\n",
      "---------------------------\n",
      "---------------------------\n",
      "Needle Length:  0.7\n",
      "---------------------------\n",
      "Exact:  0.445633840657\n",
      "Mean:  0.444762\n",
      "Standard deviation:  0.0158997910678\n",
      "---------------------------\n",
      "---------------------------\n",
      "Needle Length:  0.8\n",
      "---------------------------\n",
      "Exact:  0.509295817894\n",
      "Mean:  0.509735\n",
      "Standard deviation:  0.0159406014629\n",
      "---------------------------\n",
      "---------------------------\n",
      "Needle Length:  0.9\n",
      "---------------------------\n",
      "Exact:  0.572957795131\n",
      "Mean:  0.572529\n",
      "Standard deviation:  0.0161474195771\n",
      "---------------------------\n",
      "---------------------------\n",
      "Needle Length:  1.0\n",
      "---------------------------\n",
      "Exact:  0.636619772368\n",
      "Mean:  0.636475\n",
      "Standard deviation:  0.0151877376525\n",
      "---------------------------\n"
     ]
    },
    {
     "data": {
      "image/png": "[encoded data removed]",
      "text/plain": [
       "<matplotlib.figure.Figure at 0x10e25b610>"
      ]
     },
     "metadata": {},
     "output_type": "display_data"
    }
   ],
   "source": [
    "\"\"\"\n",
    "Now with our buffon_trial function, we will iterate through .1 - 1 in .1 increments with 1000 trials\n",
    "of 1000 trials. For each iteration we will plot a histogram of the results and compare it to the analytical \n",
    "solution\n",
    "\"\"\"\n",
    "n_lengths = np.arange(.1,1.1,.1)\n",
    "t_length = 1\n",
    "trials = 1000\n",
    "for n_length in n_lengths:\n",
    "    exact = (2*n_length)/(t_length*np.pi)\n",
    "    estimates = map(lambda x: buffon_trial(n_length, t_length, trials), np.zeros(trials))\n",
    "    plt.hist(estimates)\n",
    "    plt.xlabel(\"Estimate\")\n",
    "    plt.ylabel(\"Counts\")\n",
    "    plt.axvline(x=exact, color='r')\n",
    "    print \"---------------------------\"\n",
    "    print \"Needle Length: \", n_length\n",
    "    print \"---------------------------\"\n",
    "    print \"Exact: \", exact\n",
    "    print \"Mean: \", np.mean(estimates)\n",
    "    print \"Standard deviation: \", np.std(estimates)\n",
    "    print \"---------------------------\""
   ]
  },
  {
   "cell_type": "code",
   "execution_count": 27,
   "metadata": {
    "collapsed": false
   },
   "outputs": [
    {
     "name": "stdout",
     "output_type": "stream",
     "text": [
      "---------------------------\n",
      "Needle Length:  0.1\n",
      "---------------------------\n",
      "Exact:  0.0636619772368\n",
      "Mean:  0.063601\n",
      "Standard deviation:  0.0076716229704\n",
      "---------------------------\n",
      "---------------------------\n",
      "Needle Length:  0.2\n",
      "---------------------------\n",
      "Exact:  0.127323954474\n",
      "Mean:  0.127832\n",
      "Standard deviation:  0.0103901768994\n",
      "---------------------------\n",
      "---------------------------\n",
      "Needle Length:  0.3\n",
      "---------------------------\n",
      "Exact:  0.19098593171\n",
      "Mean:  0.191\n",
      "Standard deviation:  0.0119490585403\n",
      "---------------------------\n",
      "---------------------------\n",
      "Needle Length:  0.4\n",
      "---------------------------\n",
      "Exact:  0.254647908947\n",
      "Mean:  0.254688\n",
      "Standard deviation:  0.0139530160181\n",
      "---------------------------\n",
      "---------------------------\n",
      "Needle Length:  0.5\n",
      "---------------------------\n",
      "Exact:  0.318309886184\n",
      "Mean:  0.317922\n",
      "Standard deviation:  0.0144714863093\n",
      "---------------------------\n",
      "---------------------------\n",
      "Needle Length:  0.6\n",
      "---------------------------\n",
      "Exact:  0.381971863421\n",
      "Mean:  0.382964\n",
      "Standard deviation:  0.0158177338453\n",
      "---------------------------\n",
      "---------------------------\n",
      "Needle Length:  0.7\n",
      "---------------------------\n",
      "Exact:  0.445633840657\n",
      "Mean:  0.445192\n",
      "Standard deviation:  0.016821745926\n",
      "---------------------------\n",
      "---------------------------\n",
      "Needle Length:  0.8\n",
      "---------------------------\n",
      "Exact:  0.509295817894\n",
      "Mean:  0.509424\n",
      "Standard deviation:  0.0160709745815\n",
      "---------------------------\n",
      "---------------------------\n",
      "Needle Length:  0.9\n",
      "---------------------------\n",
      "Exact:  0.572957795131\n",
      "Mean:  0.572612\n",
      "Standard deviation:  0.0153815297029\n",
      "---------------------------\n",
      "---------------------------\n",
      "Needle Length:  1.0\n",
      "---------------------------\n",
      "Exact:  0.636619772368\n",
      "Mean:  0.636388\n",
      "Standard deviation:  0.0145207939177\n",
      "---------------------------\n",
      "---------------------------\n",
      "Needle Length:  1.1\n",
      "---------------------------\n",
      "Exact:  0.700281749604\n",
      "Mean:  0.68221\n",
      "Standard deviation:  0.0145860172768\n",
      "---------------------------\n",
      "---------------------------\n",
      "Needle Length:  1.2\n",
      "---------------------------\n",
      "Exact:  0.763943726841\n",
      "Mean:  0.714898\n",
      "Standard deviation:  0.014139363352\n",
      "---------------------------\n",
      "---------------------------\n",
      "Needle Length:  1.3\n",
      "---------------------------\n",
      "Exact:  0.827605704078\n",
      "Mean:  0.740265\n",
      "Standard deviation:  0.013872518697\n",
      "---------------------------\n",
      "---------------------------\n",
      "Needle Length:  1.4\n",
      "---------------------------\n",
      "Exact:  0.891267681315\n",
      "Mean:  0.760965\n",
      "Standard deviation:  0.0135474637848\n",
      "---------------------------\n",
      "---------------------------\n",
      "Needle Length:  1.5\n",
      "---------------------------\n",
      "Exact:  0.954929658551\n",
      "Mean:  0.778332\n",
      "Standard deviation:  0.0131878647248\n",
      "---------------------------\n",
      "---------------------------\n",
      "Needle Length:  1.6\n",
      "---------------------------\n",
      "Exact:  1.01859163579\n",
      "Mean:  0.792387\n",
      "Standard deviation:  0.0128637176197\n",
      "---------------------------\n",
      "---------------------------\n",
      "Needle Length:  1.7\n",
      "---------------------------\n",
      "Exact:  1.08225361302\n",
      "Mean:  0.806101\n",
      "Standard deviation:  0.0125272821873\n",
      "---------------------------\n",
      "---------------------------\n",
      "Needle Length:  1.8\n",
      "---------------------------\n",
      "Exact:  1.14591559026\n",
      "Mean:  0.817523\n",
      "Standard deviation:  0.0122081723038\n",
      "---------------------------\n",
      "---------------------------\n",
      "Needle Length:  1.9\n",
      "---------------------------\n",
      "Exact:  1.2095775675\n",
      "Mean:  0.828392\n",
      "Standard deviation:  0.0116683476122\n",
      "---------------------------\n",
      "---------------------------\n",
      "Needle Length:  2.0\n",
      "---------------------------\n",
      "Exact:  1.27323954474\n",
      "Mean:  0.83778\n",
      "Standard deviation:  0.011750897838\n",
      "---------------------------\n"
     ]
    },
    {
     "data": {
      "image/png": "[encoded data removed]",
      "text/plain": [
       "<matplotlib.figure.Figure at 0x10d37f310>"
      ]
     },
     "metadata": {},
     "output_type": "display_data"
    }
   ],
   "source": [
    "\"\"\"\n",
    "Copied from above with needle length now up to 2\n",
    "\"\"\"\n",
    "n_lengths = np.arange(.1,2.1,.1)\n",
    "t_length = 1\n",
    "trials = 1000\n",
    "for n_length in n_lengths:\n",
    "    exact = (2*n_length)/(t_length*np.pi)\n",
    "    estimates = map(lambda x: buffon_trial(n_length, t_length, trials), np.zeros(trials))\n",
    "    plt.hist(estimates)\n",
    "    plt.xlabel(\"Estimate\")\n",
    "    plt.ylabel(\"Counts\")\n",
    "    plt.axvline(x=exact, color='r')\n",
    "    print \"---------------------------\"\n",
    "    print \"Needle Length: \", n_length\n",
    "    print \"---------------------------\"\n",
    "    print \"Exact: \", exact\n",
    "    print \"Mean: \", np.mean(estimates)\n",
    "    print \"Standard deviation: \", np.std(estimates)\n",
    "    print \"---------------------------\""
   ]
  },
  {
   "cell_type": "markdown",
   "metadata": {},
   "source": [
    "Once the needle length exceeds 1, the length between tiles, the analytical solution starts overestimating the probability. The analytical solution is taking an integral, given an acute angle $\\theta$, from 0 to $\\frac{l}{2}sin\\theta$. This is now an overestimation when the length of the needle is larger than the length between tiles, as $\\frac{t}{2}$, the maximum length needed to get to the tile, can be less than that value. The integral is then not from 0 to $\\frac{l}{2}sin\\theta$ but only to $min(\\frac{l}{2}sin\\theta, \\frac{t}{2}$)"
   ]
  },
  {
   "cell_type": "markdown",
   "metadata": {},
   "source": [
    "# Problem 2: Simple Integration\n",
    "\n",
    "Write a function that estimates the value of a given one dimensional integral Monte Carlo style. \n",
    "The function should have the following signature:\n",
    "\n",
    "`estimate_integral_MC(function_to_integrate, lower_bound, upper_bound, number_of_samples, number_of_tries)`\n",
    "\n",
    "Where `number_of_tries` is used to calculate the standard deviation of the estimated value of the integral. \n",
    "\n",
    "Test your function by solving the following integrals:\n",
    "\n",
    "* $ \\int_0^3 x^{\\frac{x}{4}} \\,dx$\n",
    "* $ \\int_0^1 \\log x \\cdot \\log(1-x) \\,dx $.\n"
   ]
  },
  {
   "cell_type": "markdown",
   "metadata": {},
   "source": [
    "**Please answer this problem by adding cells here.**"
   ]
  },
  {
   "cell_type": "markdown",
   "metadata": {},
   "source": [
    "# Problem 3: The Donut Estimation\n",
    "\n",
    "You bought a nice donut for yourself and decided to eat it in the evening while working on your AM207 assignments. \n",
    "Unfortunately you live in a shared apartment and your roommate got hold of the donut in the kitchen. It seems that he first\n",
    "cut off a small piece from the bottom, but then discovered how delicious the donut was and proceeded to cut off an additional large part. Discovering the donut theft in the evening you decide to confront your roommate, but you want to present hard facts and estimate how much of your original donut was left. \n",
    "\n",
    "Think of the donut as a 3D object(refer to the following picture). You model the donut as a torus centered at the origin`(0,0,0)` with outer radius `R=4` and inner radius `r=2`. Points $(x,y,z)$ inside the torus then are described by the following condition: \n",
    "$$z^2 + (\\sqrt{x^2 + y^2} - c)^2 \\leq a^2,$$\n",
    "where $c$ is the radius from origin to the center of the torus tube, and $a$ is the radius of the donut tube, the cross section of the donut tube is a circle.\n",
    "\n",
    "Your roomates cuts were first parallel to the x axis at y = -3, and then parallel to the y axis at x = 1.\n",
    "\n",
    "To estimate the weight of the donut you need to solve the integral\n",
    "\n",
    "$$ \\int_V \\rho \\,dx \\,dy \\,dz $$.\n",
    "\n",
    "Where $\\rho$ is the density of the donut and $V$ is the volume. As you are just interested in the percentage of the whole donut you got to eat, you can just assume $\\rho=1$.\n",
    "\n",
    "The weight of the whole original donut then was:\n",
    "\n",
    "$$ (\\pi a^2)\\cdot(2 \\cdot \\pi \\cdot c) $$\n",
    "\n",
    "What is the percentage of the donut your room mate left for you to eat? Don't forget to estimate the error as well!\n",
    "\n",
    "\n"
   ]
  },
  {
   "cell_type": "markdown",
   "metadata": {},
   "source": [
    "**Please answer this problem by adding cells here.**"
   ]
  },
  {
   "cell_type": "markdown",
   "metadata": {},
   "source": [
    "# Problem 4: New Years Resolutions\n",
    "\n",
    "A lot of people pledge to get more active in the new year. Unfortunately these resolutions often are short lived. We model the probability distribution of personal fitness over the months of a year with a skewed distribution:\n",
    "\n",
    "$ P(t) = \\lambda \\frac{(t-0.9)}{(t-1)^2 + 1}, \\; 1 \\leq t \\leq 12 $\n",
    "\n",
    "$ P(t) = 0 \\; otherwise$\n",
    "\n",
    "Where $t=1$ corresponds to January, $t=2$ corresponds to February, etc.. $\\lambda$ is a normalization constant, and t is measured in months ($t$ only takes integer values). \n",
    "\n",
    "* Plot the given distribution and compute the normalization factor\n",
    "* Sample $10^5$ samples from the distribution given above using rejection sampling. \n",
    "* Plot the histogram of the simulated samples and compare it to the true distribution (hint: It's easiest to use the normalization factor computed above and then plot the normed version of the histogram against it.\n",
    "* Repeat the first two steps using the inverse transform instead of rejection sampling. Do not bother with getting the anti-derivative analytically. Just build a lookup table for it. \n",
    "* Compare the execution time of both methods. Which one is faster and why? When would you prefer a lookup table and when an analytical solution to the anti-derivative?"
   ]
  },
  {
   "cell_type": "markdown",
   "metadata": {},
   "source": [
    "**Please answer this problem by adding cells here.**"
   ]
  },
  {
   "cell_type": "markdown",
   "metadata": {},
   "source": [
    "# Problem 5: Give it all!\n",
    "\n",
    "Estimate the following integral:\n",
    "\n",
    "$ \\int_{-1}^{1} \\int_{-1}^{1}  f(x,y) \\,dx \\,dy$, with \n",
    "\n",
    "$g_1(x,y) = -(x+0.4)^2 - (y+0.4)^2 + 0.1$\n",
    "\n",
    "$g_2(x,y) = -(x-0.4)^2 - (y-0.4)^2 + 0.05$\n",
    "\n",
    "$f(x,y) = \\max(g_1(x,y), 0) + \\max(g_2(x,y), 0)$\n",
    "\n",
    "\n",
    "First use basic Monte Carlo estimation. Then apply different variance reduction techniques we discussed in the lecture: \n",
    "* stratified sampling, \n",
    "* control variates, \n",
    "* importance sampling\n",
    "\n",
    "For each technique give a short explanation of how you are applying it to the problem. Implement the different techniques and then make a table and compare the results with respect to run-time and error in the estimate. \n",
    "\n",
    "You can choose to also either apply and explain antithetic variates, or explain why you don't think they are useful in this case, and how they could benefit of being combined with one of the techniques listed above. "
   ]
  },
  {
   "cell_type": "markdown",
   "metadata": {},
   "source": [
    "**Please answer this problem by adding cells here.**"
   ]
  },
  {
   "cell_type": "code",
   "execution_count": null,
   "metadata": {
    "collapsed": true
   },
   "outputs": [],
   "source": []
  }
 ],
 "metadata": {
  "kernelspec": {
   "display_name": "Python 2",
   "language": "python",
   "name": "python2"
  },
  "language_info": {
   "codemirror_mode": {
    "name": "ipython",
    "version": 2
   },
   "file_extension": ".py",
   "mimetype": "text/x-python",
   "name": "python",
   "nbconvert_exporter": "python",
   "pygments_lexer": "ipython2",
   "version": "2.7.11"
  }
 },
 "nbformat": 4,
 "nbformat_minor": 0
}
