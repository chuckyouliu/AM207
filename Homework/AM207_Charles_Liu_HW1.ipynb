{
 "cells": [
  {
   "cell_type": "markdown",
   "metadata": {},
   "source": [
    "# **AM 207**: Homework 1"
   ]
  },
  {
   "cell_type": "markdown",
   "metadata": {},
   "source": [
    "Verena Kaynig-Fittkau and Pavlos Protopapas  <br>\n",
    "**Due: 11.59 P.M. Thursday February 18th, 2015**"
   ]
  },
  {
   "cell_type": "markdown",
   "metadata": {},
   "source": [
    "### Instructions:\n",
    "\n",
    "+ Upload your answers in an ipython notebook to Canvas.\n",
    "\n",
    "+ We will provide you imports for your ipython notebook. Please do not import additional libraries.\n",
    "\n",
    "+ Your individual submissions should use the following filenames: AM207_YOURNAME_HW1.ipynb\n",
    "\n",
    "+ Your code should be in code cells as part of your ipython notebook. Do not use a different language (or format). \n",
    "\n",
    "+ **Do not just send your code. The homework solutions should be in a report style. Be sure to add comments to your code as well as markdown cells where you describe your approach and discuss your results. **\n",
    "\n",
    "+ Please submit your notebook in an **executed** status, so that we can see all the results you computed. However, we will still run your code and all cells should reproduce the output when executed. \n",
    "\n",
    "+ If you have multiple files (e.g. you've added code files or images) create a tarball for all files in a single file and name it: AM207_YOURNAME_HW1.tar.gz or AM207_YOURNAME_HW1.zip\n",
    "\n",
    "\n",
    "### Have Fun!\n",
    "_ _ _ _ _"
   ]
  },
  {
   "cell_type": "code",
   "execution_count": 1,
   "metadata": {
    "collapsed": false
   },
   "outputs": [
    {
     "name": "stderr",
     "output_type": "stream",
     "text": [
      "/Users/charlesliu/anaconda/lib/python2.7/site-packages/matplotlib/__init__.py:872: UserWarning: axes.color_cycle is deprecated and replaced with axes.prop_cycle; please use the latter.\n",
      "  warnings.warn(self.msg_depr % (key, alt_key))\n"
     ]
    }
   ],
   "source": [
    "import numpy as np\n",
    "import matplotlib\n",
    "import matplotlib.pyplot as plt\n",
    "from mpl_toolkits.mplot3d import Axes3D\n",
    "%matplotlib inline\n",
    "\n",
    "import seaborn as sns\n",
    "sns.set_style(\"white\")\n",
    "\n",
    "import time\n",
    "\n",
    "import scipy.stats "
   ]
  },
  {
   "cell_type": "markdown",
   "metadata": {},
   "source": [
    "# Problem 1: By a Needles Length\n",
    "\n",
    "![Alt Buffon Needle](figures/Buffon_needle.gif)\n",
    "We discussed how to use Buffon's needle to estimate $\\pi$ during lecture, using the probability of the needle crossing a line of a floor tile. Using Monte Carlo simulation, estimate the probability of the needle crossing a floor line as a function of the needle's length. Assume that the distance between floor lines is 1 unit, and your needle manufacturer provides you with needles of different length in 0.1 increments with a maximum length of 1 unit. Plot a histogram of your results and compare your results to the analytical solution from the lecture:\n",
    "$$P = \\frac{2 \\cdot l}{t \\cdot \\pi}$$\n",
    "\n",
    "where $l$ is the length of the needle and $t$ is the distance beweent the floor tiles\n",
    "\n",
    "In a next step extend your simulation to a maximum needle length of 2 units, still using 0.1 increments. Compare your results to the same formula for the intersection. Why do your results now diverge from the analytical solution given above? What would you need to do to correct the analytical formula? It is ok to just describe the integral you need to solve analytically, and why it looks this way. No need to actually do the integration by hand. "
   ]
  },
  {
   "cell_type": "markdown",
   "metadata": {},
   "source": [
    "**Please answer this problem by adding cells here.**"
   ]
  },
  {
   "cell_type": "code",
   "execution_count": 2,
   "metadata": {
    "collapsed": true
   },
   "outputs": [],
   "source": [
    "\"\"\"\n",
    "First we define a function that takes in the needle length, tile length, and number of trials to run and\n",
    "outputs the average number of times a tile was crossed. All we need to randomize is the selection of the\n",
    "distance from the center of a needle to the closest line and the acute angle between the needle/line\n",
    "\"\"\"\n",
    "def isCrossed(x,n_length,theta):\n",
    "    if x <= np.sin(theta)*n_length/2.0:\n",
    "        return 1\n",
    "    return 0\n",
    "\n",
    "def buffon_trial(n_length, t_length, trials):\n",
    "    dists = np.random.uniform(low=0, high=t_length/2.0, size=trials)\n",
    "    angles = np.random.uniform(low=0, high=np.pi/2.0, size=trials)\n",
    "    crosses = map(lambda x: isCrossed(dists[x],n_length,angles[x]),np.arange(trials))\n",
    "    return np.mean(crosses)"
   ]
  },
  {
   "cell_type": "code",
   "execution_count": 3,
   "metadata": {
    "collapsed": false
   },
   "outputs": [
    {
     "name": "stdout",
     "output_type": "stream",
     "text": [
      "---------------------------\n",
      "Needle Length:  0.1\n",
      "---------------------------\n",
      "Exact:  0.0636619772368\n",
      "Mean:  0.063965\n",
      "Standard deviation:  0.00792980296098\n",
      "---------------------------\n",
      "---------------------------\n",
      "Needle Length:  0.2\n",
      "---------------------------\n",
      "Exact:  0.127323954474\n",
      "Mean:  0.127366\n",
      "Standard deviation:  0.0105170358942\n",
      "---------------------------\n",
      "---------------------------\n",
      "Needle Length:  0.3\n",
      "---------------------------\n",
      "Exact:  0.19098593171\n",
      "Mean:  0.191378\n",
      "Standard deviation:  0.0123351171863\n",
      "---------------------------\n",
      "---------------------------\n",
      "Needle Length:  0.4\n",
      "---------------------------\n",
      "Exact:  0.254647908947\n",
      "Mean:  0.254604\n",
      "Standard deviation:  0.0134168991947\n",
      "---------------------------\n",
      "---------------------------\n",
      "Needle Length:  0.5\n",
      "---------------------------\n",
      "Exact:  0.318309886184\n",
      "Mean:  0.318882\n",
      "Standard deviation:  0.0146148580561\n",
      "---------------------------\n",
      "---------------------------\n",
      "Needle Length:  0.6\n",
      "---------------------------\n",
      "Exact:  0.381971863421\n",
      "Mean:  0.382241\n",
      "Standard deviation:  0.0151904877802\n",
      "---------------------------\n",
      "---------------------------\n",
      "Needle Length:  0.7\n",
      "---------------------------\n",
      "Exact:  0.445633840657\n",
      "Mean:  0.445324\n",
      "Standard deviation:  0.0157423322287\n",
      "---------------------------\n",
      "---------------------------\n",
      "Needle Length:  0.8\n",
      "---------------------------\n",
      "Exact:  0.509295817894\n",
      "Mean:  0.508876\n",
      "Standard deviation:  0.0154011241148\n",
      "---------------------------\n",
      "---------------------------\n",
      "Needle Length:  0.9\n",
      "---------------------------\n",
      "Exact:  0.572957795131\n",
      "Mean:  0.573452\n",
      "Standard deviation:  0.0156409621187\n",
      "---------------------------\n",
      "---------------------------\n",
      "Needle Length:  1.0\n",
      "---------------------------\n",
      "Exact:  0.636619772368\n",
      "Mean:  0.636399\n",
      "Standard deviation:  0.0152090038793\n",
      "---------------------------\n"
     ]
    },
    {
     "data": {
      "image/png": "[encoded data removed]",
      "text/plain": [
       "<matplotlib.figure.Figure at 0x1067a0190>"
      ]
     },
     "metadata": {},
     "output_type": "display_data"
    }
   ],
   "source": [
    "\"\"\"\n",
    "Now with our buffon_trial function, we will iterate through .1 - 1 in .1 increments with 1000 trials\n",
    "of 1000 trials. For each iteration we will plot a histogram of the results and compare it to the analytical \n",
    "solution\n",
    "\"\"\"\n",
    "n_lengths = np.arange(.1,1.1,.1)\n",
    "t_length = 1\n",
    "trials = 1000\n",
    "for n_length in n_lengths:\n",
    "    exact = (2*n_length)/(t_length*np.pi)\n",
    "    estimates = map(lambda x: buffon_trial(n_length, t_length, trials), np.zeros(trials))\n",
    "    plt.hist(estimates)\n",
    "    plt.xlabel(\"Estimate\")\n",
    "    plt.ylabel(\"Counts\")\n",
    "    plt.axvline(x=exact, color='r')\n",
    "    print \"---------------------------\"\n",
    "    print \"Needle Length: \", n_length\n",
    "    print \"---------------------------\"\n",
    "    print \"Exact: \", exact\n",
    "    print \"Mean: \", np.mean(estimates)\n",
    "    print \"Standard deviation: \", np.std(estimates)\n",
    "    print \"---------------------------\""
   ]
  },
  {
   "cell_type": "code",
   "execution_count": 4,
   "metadata": {
    "collapsed": false,
    "scrolled": false
   },
   "outputs": [
    {
     "name": "stdout",
     "output_type": "stream",
     "text": [
      "---------------------------\n",
      "Needle Length:  0.1\n",
      "---------------------------\n",
      "Exact:  0.0636619772368\n",
      "Mean:  0.06373\n",
      "Standard deviation:  0.00773751252018\n",
      "---------------------------\n",
      "---------------------------\n",
      "Needle Length:  0.2\n",
      "---------------------------\n",
      "Exact:  0.127323954474\n",
      "Mean:  0.126973\n",
      "Standard deviation:  0.0105774416094\n",
      "---------------------------\n",
      "---------------------------\n",
      "Needle Length:  0.3\n",
      "---------------------------\n",
      "Exact:  0.19098593171\n",
      "Mean:  0.190975\n",
      "Standard deviation:  0.0125741948052\n",
      "---------------------------\n",
      "---------------------------\n",
      "Needle Length:  0.4\n",
      "---------------------------\n",
      "Exact:  0.254647908947\n",
      "Mean:  0.25421\n",
      "Standard deviation:  0.0138966146957\n",
      "---------------------------\n",
      "---------------------------\n",
      "Needle Length:  0.5\n",
      "---------------------------\n",
      "Exact:  0.318309886184\n",
      "Mean:  0.31861\n",
      "Standard deviation:  0.0147438766951\n",
      "---------------------------\n",
      "---------------------------\n",
      "Needle Length:  0.6\n",
      "---------------------------\n",
      "Exact:  0.381971863421\n",
      "Mean:  0.382817\n",
      "Standard deviation:  0.0154064113602\n",
      "---------------------------\n",
      "---------------------------\n",
      "Needle Length:  0.7\n",
      "---------------------------\n",
      "Exact:  0.445633840657\n",
      "Mean:  0.44609\n",
      "Standard deviation:  0.0155030932397\n",
      "---------------------------\n",
      "---------------------------\n",
      "Needle Length:  0.8\n",
      "---------------------------\n",
      "Exact:  0.509295817894\n",
      "Mean:  0.509581\n",
      "Standard deviation:  0.015955545713\n",
      "---------------------------\n",
      "---------------------------\n",
      "Needle Length:  0.9\n",
      "---------------------------\n",
      "Exact:  0.572957795131\n",
      "Mean:  0.572716\n",
      "Standard deviation:  0.015800169113\n",
      "---------------------------\n",
      "---------------------------\n",
      "Needle Length:  1.0\n",
      "---------------------------\n",
      "Exact:  0.636619772368\n",
      "Mean:  0.636478\n",
      "Standard deviation:  0.0152128733644\n",
      "---------------------------\n",
      "---------------------------\n",
      "Needle Length:  1.1\n",
      "---------------------------\n",
      "Exact:  0.700281749604\n",
      "Mean:  0.682339\n",
      "Standard deviation:  0.0152594259066\n",
      "---------------------------\n",
      "---------------------------\n",
      "Needle Length:  1.2\n",
      "---------------------------\n",
      "Exact:  0.763943726841\n",
      "Mean:  0.714517\n",
      "Standard deviation:  0.0144605570778\n",
      "---------------------------\n",
      "---------------------------\n",
      "Needle Length:  1.3\n",
      "---------------------------\n",
      "Exact:  0.827605704078\n",
      "Mean:  0.739828\n",
      "Standard deviation:  0.0140269888429\n",
      "---------------------------\n",
      "---------------------------\n",
      "Needle Length:  1.4\n",
      "---------------------------\n",
      "Exact:  0.891267681315\n",
      "Mean:  0.760919\n",
      "Standard deviation:  0.0136790511001\n",
      "---------------------------\n",
      "---------------------------\n",
      "Needle Length:  1.5\n",
      "---------------------------\n",
      "Exact:  0.954929658551\n",
      "Mean:  0.778299\n",
      "Standard deviation:  0.012995830062\n",
      "---------------------------\n",
      "---------------------------\n",
      "Needle Length:  1.6\n",
      "---------------------------\n",
      "Exact:  1.01859163579\n",
      "Mean:  0.793075\n",
      "Standard deviation:  0.0128014598777\n",
      "---------------------------\n",
      "---------------------------\n",
      "Needle Length:  1.7\n",
      "---------------------------\n",
      "Exact:  1.08225361302\n",
      "Mean:  0.807148\n",
      "Standard deviation:  0.0122180234081\n",
      "---------------------------\n",
      "---------------------------\n",
      "Needle Length:  1.8\n",
      "---------------------------\n",
      "Exact:  1.14591559026\n",
      "Mean:  0.817548\n",
      "Standard deviation:  0.0118632919546\n",
      "---------------------------\n",
      "---------------------------\n",
      "Needle Length:  1.9\n",
      "---------------------------\n",
      "Exact:  1.2095775675\n",
      "Mean:  0.828565\n",
      "Standard deviation:  0.01167560598\n",
      "---------------------------\n",
      "---------------------------\n",
      "Needle Length:  2.0\n",
      "---------------------------\n",
      "Exact:  1.27323954474\n",
      "Mean:  0.837277\n",
      "Standard deviation:  0.0118468675607\n",
      "---------------------------\n"
     ]
    },
    {
     "data": {
      "image/png": "[encoded data removed]",
      "text/plain": [
       "<matplotlib.figure.Figure at 0x10d568c50>"
      ]
     },
     "metadata": {},
     "output_type": "display_data"
    }
   ],
   "source": [
    "\"\"\"\n",
    "Copied from above with needle length now up to 2\n",
    "\"\"\"\n",
    "n_lengths = np.arange(.1,2.1,.1)\n",
    "t_length = 1\n",
    "trials = 1000\n",
    "for n_length in n_lengths:\n",
    "    exact = (2*n_length)/(t_length*np.pi)\n",
    "    estimates = map(lambda x: buffon_trial(n_length, t_length, trials), np.zeros(trials))\n",
    "    plt.hist(estimates)\n",
    "    plt.xlabel(\"Estimate\")\n",
    "    plt.ylabel(\"Counts\")\n",
    "    plt.axvline(x=exact, color='r')\n",
    "    print \"---------------------------\"\n",
    "    print \"Needle Length: \", n_length\n",
    "    print \"---------------------------\"\n",
    "    print \"Exact: \", exact\n",
    "    print \"Mean: \", np.mean(estimates)\n",
    "    print \"Standard deviation: \", np.std(estimates)\n",
    "    print \"---------------------------\""
   ]
  },
  {
   "cell_type": "markdown",
   "metadata": {},
   "source": [
    "Once the needle length exceeds 1, the length between tiles, the analytical solution starts overestimating the probability. The analytical solution is taking an integral, given an acute angle $\\theta$, from 0 to $\\frac{l}{2}sin\\theta$. This is now an overestimation when the length of the needle is larger than the length between tiles, as $\\frac{t}{2}$, the maximum length needed to get to the tile, can be less than that value. The integral is then not from 0 to $\\frac{l}{2}sin\\theta$ but only to $min(\\frac{l}{2}sin\\theta, \\frac{t}{2}$)"
   ]
  },
  {
   "cell_type": "markdown",
   "metadata": {},
   "source": [
    "# Problem 2: Simple Integration\n",
    "\n",
    "Write a function that estimates the value of a given one dimensional integral Monte Carlo style. \n",
    "The function should have the following signature:\n",
    "\n",
    "`estimate_integral_MC(function_to_integrate, lower_bound, upper_bound, number_of_samples, number_of_tries)`\n",
    "\n",
    "Where `number_of_tries` is used to calculate the standard deviation of the estimated value of the integral. \n",
    "\n",
    "Test your function by solving the following integrals:\n",
    "\n",
    "* $ \\int_0^3 x^{\\frac{x}{4}} \\,dx$\n",
    "* $ \\int_0^1 \\log x \\cdot \\log(1-x) \\,dx $.\n"
   ]
  },
  {
   "cell_type": "markdown",
   "metadata": {},
   "source": [
    "**Please answer this problem by adding cells here.**"
   ]
  },
  {
   "cell_type": "code",
   "execution_count": 5,
   "metadata": {
    "collapsed": true
   },
   "outputs": [],
   "source": [
    "\"\"\"\n",
    "Standard method of taking uniforms over the bounds and multiplying by the bounds\n",
    "\"\"\"\n",
    "def estimate_integral_MC(function_to_integrate, lower_bound, upper_bound, number_of_samples, number_of_tries):\n",
    "    estimates = [0]*number_of_tries\n",
    "    for trial in range(number_of_tries):\n",
    "        X = np.random.uniform(low=lower_bound, high=upper_bound, size=number_of_samples)\n",
    "        Y = function_to_integrate(X)\n",
    "        estimates[trial] = np.mean(Y)*(upper_bound-lower_bound)\n",
    "    return np.mean(estimates), np.std(estimates)"
   ]
  },
  {
   "cell_type": "code",
   "execution_count": 6,
   "metadata": {
    "collapsed": false
   },
   "outputs": [
    {
     "data": {
      "text/plain": [
       "(3.9133150662213301, 0.038181348807200984)"
      ]
     },
     "execution_count": 6,
     "metadata": {},
     "output_type": "execute_result"
    }
   ],
   "source": [
    "\"\"\"\n",
    "Test for x^(x/4) from 0 to 3\n",
    "\"\"\"\n",
    "estimate_integral_MC(lambda x: np.power(x,x/4.0), 0, 3, 1000, 1000)"
   ]
  },
  {
   "cell_type": "code",
   "execution_count": 7,
   "metadata": {
    "collapsed": false
   },
   "outputs": [
    {
     "data": {
      "text/plain": [
       "(0.35503535684192927, 0.0038625468326853665)"
      ]
     },
     "execution_count": 7,
     "metadata": {},
     "output_type": "execute_result"
    }
   ],
   "source": [
    "\"\"\"\n",
    "Test for logx*log(1-x) from 0 to 1\n",
    "\"\"\"\n",
    "estimate_integral_MC(lambda x: np.log(x)*np.log(1-x), 0, 1, 1000, 1000)"
   ]
  },
  {
   "cell_type": "markdown",
   "metadata": {},
   "source": [
    "# Problem 3: The Donut Estimation\n",
    "\n",
    "You bought a nice donut for yourself and decided to eat it in the evening while working on your AM207 assignments. \n",
    "Unfortunately you live in a shared apartment and your roommate got hold of the donut in the kitchen. It seems that he first\n",
    "cut off a small piece from the bottom, but then discovered how delicious the donut was and proceeded to cut off an additional large part. Discovering the donut theft in the evening you decide to confront your roommate, but you want to present hard facts and estimate how much of your original donut was left. \n",
    "\n",
    "Think of the donut as a 3D object(refer to the following picture). You model the donut as a torus centered at the origin`(0,0,0)` with outer radius `R=4` and inner radius `r=2`. Points $(x,y,z)$ inside the torus then are described by the following condition: \n",
    "$$z^2 + (\\sqrt{x^2 + y^2} - c)^2 \\leq a^2,$$\n",
    "where $c$ is the radius from origin to the center of the torus tube, and $a$ is the radius of the donut tube, the cross section of the donut tube is a circle.\n",
    "\n",
    "Your roomates cuts were first parallel to the x axis at y = -3, and then parallel to the y axis at x = 1.\n",
    "\n",
    "To estimate the weight of the donut you need to solve the integral\n",
    "\n",
    "$$ \\int_V \\rho \\,dx \\,dy \\,dz $$.\n",
    "\n",
    "Where $\\rho$ is the density of the donut and $V$ is the volume. As you are just interested in the percentage of the whole donut you got to eat, you can just assume $\\rho=1$.\n",
    "\n",
    "The weight of the whole original donut then was:\n",
    "\n",
    "$$ (\\pi a^2)\\cdot(2 \\cdot \\pi \\cdot c) $$\n",
    "\n",
    "What is the percentage of the donut your room mate left for you to eat? Don't forget to estimate the error as well!\n",
    "\n",
    "\n"
   ]
  },
  {
   "cell_type": "markdown",
   "metadata": {},
   "source": [
    "**Please answer this problem by adding cells here.**"
   ]
  },
  {
   "cell_type": "code",
   "execution_count": 8,
   "metadata": {
    "collapsed": false
   },
   "outputs": [
    {
     "data": {
      "text/plain": [
       "(1.0, 3.0)"
      ]
     },
     "execution_count": 8,
     "metadata": {},
     "output_type": "execute_result"
    }
   ],
   "source": [
    "\"\"\"\n",
    "First we need to convert from R,r to a,c in the formula. Given these definitions:\n",
    "R - r = diameter of donut tube, meaning a = (R-r)/2\n",
    "c = r + a\n",
    "\"\"\"\n",
    "R = 4\n",
    "r = 2\n",
    "a = (R-r)/2.0\n",
    "c = r + a\n",
    "a,c"
   ]
  },
  {
   "cell_type": "code",
   "execution_count": 9,
   "metadata": {
    "collapsed": false
   },
   "outputs": [
    {
     "name": "stdout",
     "output_type": "stream",
     "text": [
      "Original weight:  59.2176264065\n",
      "Estimate: 59.260416, Std Error: 2.00431495004\n"
     ]
    }
   ],
   "source": [
    "\"\"\"\n",
    "Let's now estimate the full weight of the donut, it should be close to the formula outlined\n",
    "We'll run 1000 trials of 1000 samples\n",
    "The bounds for x,y are calculated by setting all variables equal to 0 and solving for\n",
    "ranges\n",
    "\"\"\"\n",
    "orig_weight = (np.pi*np.power(a,2))*(2*np.pi*c)\n",
    "print \"Original weight: \", orig_weight\n",
    "N = 1000\n",
    "estimates = [0]*N\n",
    "for i in range(N):\n",
    "    X = np.random.uniform(low=-c-a, high=c+a, size=N)  \n",
    "    Y = np.random.uniform(low=-c-a, high=c+a, size=N)   \n",
    "    Z = np.random.uniform(low=-a, high=a, size=N)\n",
    "    F = np.power(Z,2) + np.power(np.power(np.power(X,2) + np.power(Y,2), .5)-c,2)\n",
    "    estimates[i] = np.sum(F<=np.power(a,2))*1./N*(8*np.power(c+a,2)*a)\n",
    "#number of points inside range/total number of points * area of box 2(c+a) x 2(c+a) x 2a\n",
    "print \"Estimate: {}, Std Error: {}\".format(np.mean(estimates), np.std(estimates))"
   ]
  },
  {
   "cell_type": "markdown",
   "metadata": {},
   "source": [
    "Looks like our method is working for the full donut weight case, now we restrict on y >= -3 and x <= 1 simultaneously and calculate the ratio of weights"
   ]
  },
  {
   "cell_type": "code",
   "execution_count": 10,
   "metadata": {
    "collapsed": false
   },
   "outputs": [
    {
     "name": "stdout",
     "output_type": "stream",
     "text": [
      "Estimate: 54.0785268564%, Std Error: 0.01841777751\n"
     ]
    }
   ],
   "source": [
    "estimates = [0]*N\n",
    "for i in range(N):\n",
    "    X = np.random.uniform(low=-c-a, high=1, size=N)  \n",
    "    Y = np.random.uniform(low=-3, high=c+a, size=N)\n",
    "    Z = np.random.uniform(low=-a, high=a, size=N)\n",
    "    F = np.power(Z,2) + np.power(np.power(np.power(X,2) + np.power(Y,2), .5)-c,2)\n",
    "    #now area of box is (c+a+1) x (c+a+3) x (2a)\n",
    "    estimates[i] = np.sum(F<=np.power(a,2))*1./N*(c+a+1)*(3+c+a)*2*a/orig_weight\n",
    "print \"Estimate: {}%, Std Error: {}\".format(np.mean(estimates)*100, np.std(estimates))"
   ]
  },
  {
   "cell_type": "markdown",
   "metadata": {},
   "source": [
    "# Problem 4: New Years Resolutions\n",
    "\n",
    "A lot of people pledge to get more active in the new year. Unfortunately these resolutions often are short lived. We model the probability distribution of personal fitness over the months of a year with a skewed distribution:\n",
    "\n",
    "$ P(t) = \\lambda \\frac{(t-0.9)}{(t-1)^2 + 1}, \\; 1 \\leq t \\leq 12 $\n",
    "\n",
    "$ P(t) = 0 \\; otherwise$\n",
    "\n",
    "Where $t=1$ corresponds to January, $t=2$ corresponds to February, etc.. $\\lambda$ is a normalization constant, and t is measured in months ($t$ only takes integer values). \n",
    "\n",
    "* Plot the given distribution and compute the normalization factor\n",
    "* Sample $10^5$ samples from the distribution given above using rejection sampling. \n",
    "* Plot the histogram of the simulated samples and compare it to the true distribution (hint: It's easiest to use the normalization factor computed above and then plot the normed version of the histogram against it.\n",
    "* Repeat the first two steps using the inverse transform instead of rejection sampling. Do not bother with getting the anti-derivative analytically. Just build a lookup table for it. \n",
    "* Compare the execution time of both methods. Which one is faster and why? When would you prefer a lookup table and when an analytical solution to the anti-derivative?"
   ]
  },
  {
   "cell_type": "markdown",
   "metadata": {},
   "source": [
    "**Please answer this problem by adding cells here.**"
   ]
  },
  {
   "cell_type": "code",
   "execution_count": 11,
   "metadata": {
    "collapsed": false
   },
   "outputs": [
    {
     "name": "stdout",
     "output_type": "stream",
     "text": [
      "Normalization factor:  0.39188538567\n",
      "Std Error:  0.0536331506132\n"
     ]
    },
    {
     "data": {
      "text/plain": [
       "<matplotlib.text.Text at 0x10e24ea90>"
      ]
     },
     "execution_count": 11,
     "metadata": {},
     "output_type": "execute_result"
    },
    {
     "data": {
      "image/png": "[encoded data removed]",
      "text/plain": [
       "<matplotlib.figure.Figure at 0x10deb0f90>"
      ]
     },
     "metadata": {},
     "output_type": "display_data"
    }
   ],
   "source": [
    "def f(x):\n",
    "    return (x-0.9)/(np.power(x-1,2) + 1)\n",
    "\"\"\"\n",
    "Calculating the normalization factor, first we integrate the fraction from 1 to 12\n",
    "with 1000 trials 1000 times\n",
    "\"\"\"\n",
    "N = 1000\n",
    "estimates = [0]*N\n",
    "for i in range(N):\n",
    "    X = np.random.randint(low=1, high=13, size=N)\n",
    "    Y = f(X)\n",
    "    estimates[i] = np.mean(Y)*12\n",
    "norm_factor = 1/np.mean(estimates)\n",
    "print \"Normalization factor: \", norm_factor\n",
    "print \"Std Error: \", np.std(estimates)\n",
    "\n",
    "\"\"\"\n",
    "Now we plot the distribution with this norm_factor\n",
    "\"\"\"\n",
    "plt.plot(range(1,13), map(lambda x: norm_factor*f(x), range(1,13)))\n",
    "plt.xlabel(\"Month\")\n",
    "plt.ylabel(\"Fitness\")"
   ]
  },
  {
   "cell_type": "code",
   "execution_count": 12,
   "metadata": {
    "collapsed": false
   },
   "outputs": [
    {
     "name": "stdout",
     "output_type": "stream",
     "text": [
      "Total samples drawn:  258944\n",
      "Number of accepted samples:  100000\n",
      "Time:  2.25089478493\n"
     ]
    },
    {
     "data": {
      "text/plain": [
       "<matplotlib.text.Text at 0x10e2f8bd0>"
      ]
     },
     "execution_count": 12,
     "metadata": {},
     "output_type": "execute_result"
    },
    {
     "data": {
      "image/png": "[encoded data removed]",
      "text/plain": [
       "<matplotlib.figure.Figure at 0x10e4dc6d0>"
      ]
     },
     "metadata": {},
     "output_type": "display_data"
    }
   ],
   "source": [
    "\"\"\"\n",
    "Rejection sampling\n",
    "\"\"\"\n",
    "start = time.time()\n",
    "N = 100000\n",
    "accepted = 0\n",
    "samples = np.zeros(N)\n",
    "count = 0\n",
    "\n",
    "while (accepted < N):\n",
    "    x = np.random.randint(1, 13)\n",
    "    y = np.random.uniform(0,f(2)*norm_factor)\n",
    "    \n",
    "    if y < f(x)*norm_factor:\n",
    "        samples[accepted] = x\n",
    "        accepted += 1\n",
    "    \n",
    "    count +=1\n",
    "    \n",
    "print \"Total samples drawn: \",count\n",
    "print \"Number of accepted samples: \", accepted\n",
    "print \"Time: \", time.time()-start\n",
    "plt.hist(samples,bins=12, label=u'Samples', alpha=0.5, normed=True);\n",
    "plt.xlabel(\"Month\")\n",
    "plt.ylabel(\"Fitness\")"
   ]
  },
  {
   "cell_type": "code",
   "execution_count": 13,
   "metadata": {
    "collapsed": false
   },
   "outputs": [
    {
     "name": "stdout",
     "output_type": "stream",
     "text": [
      "Time:  0.175650835037\n"
     ]
    },
    {
     "data": {
      "text/plain": [
       "<matplotlib.text.Text at 0x10de42190>"
      ]
     },
     "execution_count": 13,
     "metadata": {},
     "output_type": "execute_result"
    },
    {
     "data": {
      "image/png": "[encoded data removed]",
      "text/plain": [
       "<matplotlib.figure.Figure at 0x10e2ddc90>"
      ]
     },
     "metadata": {},
     "output_type": "display_data"
    }
   ],
   "source": [
    "\"\"\"\n",
    "Inverse transform\n",
    "\"\"\"\n",
    "start = time.time()\n",
    "N = 100000\n",
    "lookup = [0]*12\n",
    "lookup[0] = f(1)*norm_factor\n",
    "for i in range(1,12):\n",
    "    lookup[i] = lookup[i-1] + f(i+1)*norm_factor\n",
    "    \n",
    "#given random value, return first index with larger cdf\n",
    "def invLookup(val):\n",
    "    high = 11\n",
    "    low = 0\n",
    "    while high >= low:\n",
    "        mid = low + (high-low)/2\n",
    "        if lookup[mid] >= val and (mid == 0 or lookup[mid-1] < val):\n",
    "            return mid+1\n",
    "        elif lookup[mid] > val:\n",
    "            high = mid-1\n",
    "        else:\n",
    "            low = mid+1\n",
    "            \n",
    "R = np.random.uniform(0,lookup[11],N)\n",
    "X = map(lambda x: invLookup(x), R)\n",
    "print \"Time: \", time.time() - start\n",
    "plt.hist(X,bins=12, label=u'Samples', alpha=0.5, normed=True);\n",
    "plt.xlabel(\"Month\")\n",
    "plt.ylabel(\"Fitness\")"
   ]
  },
  {
   "cell_type": "markdown",
   "metadata": {},
   "source": [
    "The inverse transform is much faster because in the case of rejection sampling to get the 100000 points you actually needed to generate 2.5x that many points whereas with the inverse transform each random number generates a point on the distribution. Also making the lookup use binary search added to the speed efficiency. It makes sense to use a lookup table when the distribution is discrete especially because the binary search can be very efficient even for millions of points, whereas if it's continuous like the case of e^(-x) in the lecture notebook it would make more sense to use an anti-derivative"
   ]
  },
  {
   "cell_type": "markdown",
   "metadata": {},
   "source": [
    "# Problem 5: Give it all!\n",
    "\n",
    "Estimate the following integral:\n",
    "\n",
    "$ \\int_{-1}^{1} \\int_{-1}^{1}  f(x,y) \\,dx \\,dy$, with \n",
    "\n",
    "$g_1(x,y) = -(x+0.4)^2 - (y+0.4)^2 + 0.1$\n",
    "\n",
    "$g_2(x,y) = -(x-0.4)^2 - (y-0.4)^2 + 0.05$\n",
    "\n",
    "$f(x,y) = \\max(g_1(x,y), 0) + \\max(g_2(x,y), 0)$\n",
    "\n",
    "\n",
    "First use basic Monte Carlo estimation. Then apply different variance reduction techniques we discussed in the lecture: \n",
    "* stratified sampling, \n",
    "* control variates, \n",
    "* importance sampling\n",
    "\n",
    "For each technique give a short explanation of how you are applying it to the problem. Implement the different techniques and then make a table and compare the results with respect to run-time and error in the estimate. \n",
    "\n",
    "You can choose to also either apply and explain antithetic variates, or explain why you don't think they are useful in this case, and how they could benefit of being combined with one of the techniques listed above. "
   ]
  },
  {
   "cell_type": "markdown",
   "metadata": {},
   "source": [
    "**Please answer this problem by adding cells here.**"
   ]
  },
  {
   "cell_type": "code",
   "execution_count": 14,
   "metadata": {
    "collapsed": true
   },
   "outputs": [],
   "source": [
    "\"\"\"\n",
    "First define functions to g1,g2 and f\n",
    "\"\"\"\n",
    "def g1(x,y):\n",
    "    return -np.power(x+0.4,2) - np.power(y+0.4,2) + 0.1\n",
    "def g2(x,y):\n",
    "    return -np.power(x-0.4,2) - np.power(y-0.4,2) + 0.05\n",
    "def f(x,y):\n",
    "    return np.maximum(g1(x,y),0) + np.maximum(g2(x,y),0)"
   ]
  },
  {
   "cell_type": "code",
   "execution_count": 15,
   "metadata": {
    "collapsed": false
   },
   "outputs": [],
   "source": [
    "results = {}\n",
    "\n",
    "\"\"\"\n",
    "Basic Monte Carlo\n",
    "volume * average\n",
    "\"\"\"\n",
    "N = 1000\n",
    "estimates = [0]*N\n",
    "volume = 4\n",
    "start = time.time()\n",
    "for i in range(N):\n",
    "    X = np.random.uniform(-1,1,N)\n",
    "    Y = np.random.uniform(-1,1,N)\n",
    "    F = f(X,Y)\n",
    "    estimates[i] = np.mean(F)\n",
    "results[\"Basic\"] = (np.mean(estimates)*volume, np.std(estimates)*volume, time.time() - start)"
   ]
  },
  {
   "cell_type": "code",
   "execution_count": 16,
   "metadata": {
    "collapsed": false
   },
   "outputs": [],
   "source": [
    "\"\"\"\n",
    "Stratified Sampling\n",
    "Divide xy-block into 10x10 pieces and integrate over each piece and sum together\n",
    "\"\"\"\n",
    "N = 1000\n",
    "M = 10.0\n",
    "step = 2/M\n",
    "volume = step*step\n",
    "#loop of trials\n",
    "start = time.time()\n",
    "for i in range(N):\n",
    "    xmin = -1.\n",
    "    xmax = -1+step\n",
    "    ymin = -1.\n",
    "    ymax = -1+step\n",
    "    sum_est = 0\n",
    "    #loop through different X strata\n",
    "    for x_step in range(int(M)):\n",
    "        #loop through different Y strata\n",
    "        for y_step in range(int(M)):\n",
    "            x = np.random.uniform(low=xmin, high=xmax, size=int(N/(M*M)))\n",
    "            y = np.random.uniform(low=ymin, high=ymax, size=int(N/(M*M)))\n",
    "            sum_est += np.mean(f(x,y))\n",
    "            ymin += step\n",
    "            ymax += step\n",
    "            if ymax > 1.0:\n",
    "                ymin = -1.\n",
    "                ymax = -1.+step\n",
    "        xmin += step\n",
    "        xmax += step\n",
    "    estimates[i] = sum_est\n",
    "results[\"Strat\"] = (np.mean(estimates)*volume, np.std(estimates)*volume, time.time() - start)"
   ]
  },
  {
   "cell_type": "code",
   "execution_count": 17,
   "metadata": {
    "collapsed": true
   },
   "outputs": [],
   "source": [
    "\"\"\"\n",
    "Control variate\n",
    "Need to find correlated function that we know the integral of\n",
    "max(g1) and max(g2) are both correlated to f as you can't have the case\n",
    "where one goes up and the other goes down. We also know that they're both\n",
    "essentially circles so we can calculate the expected area. So we can use\n",
    "max(g1) as our similar function to remove some variance\n",
    "\"\"\"\n",
    "N = 1000\n",
    "#max(g1) is circle with r^2 of 0.1 and values range from 0 to .1 so average is .1/2\n",
    "#volume is 2x2\n",
    "volume = 4\n",
    "tau = np.pi*(.1)*(.1/2)/volume\n",
    "start = time.time()\n",
    "for i in range(N):\n",
    "    X = np.random.uniform( low=-1, high=1, size=N)\n",
    "    Y = np.random.uniform( low=-1, high=1, size=N)\n",
    "    XY = zip(X,Y)\n",
    "    C = map(lambda x: np.maximum(g1(x[0],x[1]), 0.0), XY)\n",
    "    F = map(lambda x: f(x[0],x[1]), XY)\n",
    "    q = np.cov(C,F)\n",
    "    b =- q[0,1]/np.var(C)\n",
    "    estimates[i] = np.mean(F) + b *(np.mean(C) - tau)\n",
    "results[\"CtrlV\"] = (np.mean(estimates)*volume, np.std(estimates)*volume, time.time() - start)"
   ]
  },
  {
   "cell_type": "code",
   "execution_count": 18,
   "metadata": {
    "collapsed": false
   },
   "outputs": [],
   "source": [
    "\"\"\"\n",
    "Importance Sampling\n",
    "Need to find similar distribution that we can sample from.\n",
    "max(g1) and max(g2) are both circular distributions where\n",
    "it's higher at the center of the circle. These can be viewed\n",
    "similarly to multivariate gaussian distributions. Thus, we can\n",
    "sample from uniform [0,1] and if <.5 sample from one multivariate,\n",
    "otherwise sample from other (essentially coin flip to choose which\n",
    "distribution to sample from). From there we can go through the typical\n",
    "process of importance sampling\n",
    "\n",
    "Chose the variances in the covariance matrix with the following rationale:\n",
    "around 2 std deviations gives 95% of the curve, we treat this as the \"radius\"\n",
    "so given radius of the circle, the variance we give is (radius/2)^2\n",
    "\"\"\"\n",
    "\n",
    "N = 1000\n",
    "g1_mu = [-.4,-.4]\n",
    "var_1 = np.power(np.sqrt(.1)/2.,2)\n",
    "var_2 = np.power(np.sqrt(.05)/2.,2)\n",
    "g1_sig = [[var_1, 0], [0, var_1]]\n",
    "g2_mu = [.4,.4]\n",
    "g2_sig = [[var_2, 0], [0, var_2]]\n",
    "p1 = lambda x: scipy.stats.multivariate_normal.pdf(x, g1_mu, g1_sig)\n",
    "p2 = lambda x: scipy.stats.multivariate_normal.pdf(x, g2_mu, g2_sig)\n",
    "p = lambda x: .5*(p1(x)+p2(x))\n",
    "#normalization factors to get to 1\n",
    "norm_1 = scipy.stats.mvn.mvnun([-1,-1],[1,1],g1_mu,g1_sig)[0]\n",
    "norm_2 = scipy.stats.mvn.mvnun([-1,-1],[1,1],g2_mu,g2_sig)[0]\n",
    "norm = .5*(norm_1+norm_2)\n",
    "start = time.time()\n",
    "for i in range(N):\n",
    "    g1_x = np.random.multivariate_normal(g1_mu,g1_sig,N)\n",
    "    g2_x = np.random.multivariate_normal(g2_mu,g2_sig,N)\n",
    "    flips = np.random.uniform(0,1,N)\n",
    "    g1_x = g1_x[flips<0.5]\n",
    "    g2_x = g2_x[flips>0.5]\n",
    "    # make sure samples are in our range\n",
    "    g1_x = g1_x[(g1_x[:,0]<1)&(g1_x[:,0]>-1)&(g1_x[:,1]<1)&(g1_x[:,1]>-1)]\n",
    "    g2_x = g2_x[(g2_x[:,0]<1)&(g2_x[:,0]>-1)&(g2_x[:,1]<1)&(g2_x[:,1]>-1)]\n",
    "    #get the estimates from the corresponding g1/g2 distributions\n",
    "    g1_est = np.mean(map(lambda x: f(x[0],x[1]), g1_x)/p(g1_x))\n",
    "    g2_est = np.mean(map(lambda x: f(x[0],x[1]), g2_x)/p(g2_x))\n",
    "    #average those estimates and normalize\n",
    "    estimates[i] = (g1_est + g2_est)/2.;\n",
    "results[\"ISamp\"] = (np.mean(estimates)*norm, np.std(estimates)*norm, time.time() - start)"
   ]
  },
  {
   "cell_type": "code",
   "execution_count": 19,
   "metadata": {
    "collapsed": false
   },
   "outputs": [],
   "source": [
    "\"\"\"\n",
    "Antithetic variate\n",
    "Since these are uniforms over -1,1 we can do the usual take\n",
    "samples from the uniforms and then also -1*X or -1*Y as well\n",
    "which are certainly negatively correlated\n",
    "\"\"\"\n",
    "N = 1000 #only half the samples since we'll be taking 1-X/Y for the other half\n",
    "volume = 4\n",
    "start = time.time()\n",
    "for i in range(N):\n",
    "    X_1 = np.random.uniform(-1,1,N/2)\n",
    "    Y_1 = np.random.uniform(-1,1,N/2)\n",
    "    X_2 = X_1*-1\n",
    "    Y_2 = Y_1*-1\n",
    "    estimates[i] = 0.5*(np.mean(f(X_1,Y_1)) + np.mean(f(X_2,Y_2)))\n",
    "results[\"AntiT\"] = (np.mean(estimates)*volume, np.std(estimates)*volume, time.time() - start)"
   ]
  },
  {
   "cell_type": "code",
   "execution_count": 20,
   "metadata": {
    "collapsed": false
   },
   "outputs": [
    {
     "name": "stdout",
     "output_type": "stream",
     "text": [
      "Results of the form (estimate, error, time)\n",
      "AntiT (0.019720401531909494, 0.0025283373107946776, 0.3070800304412842)\n",
      "CtrlV (0.019645329184655041, 0.00071262825750093494, 25.89774799346924)\n",
      "Strat (0.01958955463253045, 0.0008370980004753384, 5.433874845504761)\n",
      "ISamp (0.019640757374475151, 0.00031435074918835564, 19.81815004348755)\n",
      "Basic (0.019531829082051481, 0.0021147680583954703, 0.26213502883911133)\n"
     ]
    }
   ],
   "source": [
    "print \"Results of the form (estimate, error, time)\"\n",
    "for technique,result in results.iteritems():\n",
    "    print technique, result"
   ]
  },
  {
   "cell_type": "markdown",
   "metadata": {},
   "source": [
    "There's a clear tradeoff between runtime and accuracy. The stratified sampling is both relatively quick and accurate. With control variates it requires a lot of calculations to come up with covariance over long series (as N increases this becomes increasingly expensive), and the error was not so much better than the Strat version. The error in the importance sampling is quite a bit better than the Strat method but calculating the pdf's of multivariate gaussians were similarly expensive. There's also an added complexity of choosing the right variances of the multivariate gaussian distributions - just blankly choosing some variance greatly affects the resulting values.\n",
    "\n",
    "Antithetic variates didn't work so well, this is probably due to the fact that although the X's are negatively correlated, the Y's are not as the circle's symmetric. One possible thing to do is to cut the circles into quarters like in stratified sampling, and then you would have some sense of monotonicity."
   ]
  },
  {
   "cell_type": "code",
   "execution_count": null,
   "metadata": {
    "collapsed": true
   },
   "outputs": [],
   "source": []
  }
 ],
 "metadata": {
  "kernelspec": {
   "display_name": "Python 2",
   "language": "python",
   "name": "python2"
  },
  "language_info": {
   "codemirror_mode": {
    "name": "ipython",
    "version": 2
   },
   "file_extension": ".py",
   "mimetype": "text/x-python",
   "name": "python",
   "nbconvert_exporter": "python",
   "pygments_lexer": "ipython2",
   "version": "2.7.11"
  }
 },
 "nbformat": 4,
 "nbformat_minor": 0
}
