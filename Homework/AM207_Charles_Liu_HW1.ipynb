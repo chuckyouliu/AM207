{
 "cells": [
  {
   "cell_type": "markdown",
   "metadata": {},
   "source": [
    "# **AM 207**: Homework 1"
   ]
  },
  {
   "cell_type": "markdown",
   "metadata": {},
   "source": [
    "Verena Kaynig-Fittkau and Pavlos Protopapas  <br>\n",
    "**Due: 11.59 P.M. Thursday February 18th, 2015**"
   ]
  },
  {
   "cell_type": "markdown",
   "metadata": {},
   "source": [
    "### Instructions:\n",
    "\n",
    "+ Upload your answers in an ipython notebook to Canvas.\n",
    "\n",
    "+ We will provide you imports for your ipython notebook. Please do not import additional libraries.\n",
    "\n",
    "+ Your individual submissions should use the following filenames: AM207_YOURNAME_HW1.ipynb\n",
    "\n",
    "+ Your code should be in code cells as part of your ipython notebook. Do not use a different language (or format). \n",
    "\n",
    "+ **Do not just send your code. The homework solutions should be in a report style. Be sure to add comments to your code as well as markdown cells where you describe your approach and discuss your results. **\n",
    "\n",
    "+ Please submit your notebook in an **executed** status, so that we can see all the results you computed. However, we will still run your code and all cells should reproduce the output when executed. \n",
    "\n",
    "+ If you have multiple files (e.g. you've added code files or images) create a tarball for all files in a single file and name it: AM207_YOURNAME_HW1.tar.gz or AM207_YOURNAME_HW1.zip\n",
    "\n",
    "\n",
    "### Have Fun!\n",
    "_ _ _ _ _"
   ]
  },
  {
   "cell_type": "code",
   "execution_count": 1,
   "metadata": {
    "collapsed": false
   },
   "outputs": [
    {
     "name": "stderr",
     "output_type": "stream",
     "text": [
      "/Users/charlesliu/anaconda/lib/python2.7/site-packages/matplotlib/__init__.py:872: UserWarning: axes.color_cycle is deprecated and replaced with axes.prop_cycle; please use the latter.\n",
      "  warnings.warn(self.msg_depr % (key, alt_key))\n"
     ]
    }
   ],
   "source": [
    "import numpy as np\n",
    "import matplotlib\n",
    "import matplotlib.pyplot as plt\n",
    "from mpl_toolkits.mplot3d import Axes3D\n",
    "%matplotlib inline\n",
    "\n",
    "import seaborn as sns\n",
    "sns.set_style(\"white\")\n",
    "\n",
    "import time\n",
    "\n",
    "import scipy.stats "
   ]
  },
  {
   "cell_type": "markdown",
   "metadata": {},
   "source": [
    "# Problem 1: By a Needles Length\n",
    "\n",
    "![Alt Buffon Needle](figures/Buffon_needle.gif)\n",
    "We discussed how to use Buffon's needle to estimate $\\pi$ during lecture, using the probability of the needle crossing a line of a floor tile. Using Monte Carlo simulation, estimate the probability of the needle crossing a floor line as a function of the needle's length. Assume that the distance between floor lines is 1 unit, and your needle manufacturer provides you with needles of different length in 0.1 increments with a maximum length of 1 unit. Plot a histogram of your results and compare your results to the analytical solution from the lecture:\n",
    "$$P = \\frac{2 \\cdot l}{t \\cdot \\pi}$$\n",
    "\n",
    "where $l$ is the length of the needle and $t$ is the distance beweent the floor tiles\n",
    "\n",
    "In a next step extend your simulation to a maximum needle length of 2 units, still using 0.1 increments. Compare your results to the same formula for the intersection. Why do your results now diverge from the analytical solution given above? What would you need to do to correct the analytical formula? It is ok to just describe the integral you need to solve analytically, and why it looks this way. No need to actually do the integration by hand. "
   ]
  },
  {
   "cell_type": "markdown",
   "metadata": {},
   "source": [
    "**Please answer this problem by adding cells here.**"
   ]
  },
  {
   "cell_type": "code",
   "execution_count": 5,
   "metadata": {
    "collapsed": true
   },
   "outputs": [],
   "source": [
    "\"\"\"\n",
    "First we define a function that takes in the needle length, tile length, and number of trials to run and\n",
    "outputs the average number of times a tile was crossed. All we need to randomize is the selection of the\n",
    "distance from the center of a needle to the closest line and the acute angle between the needle/line\n",
    "\"\"\"\n",
    "def isCrossed(x,n_length,theta):\n",
    "    if x <= np.sin(theta)*n_length/2.0:\n",
    "        return 1\n",
    "    return 0\n",
    "\n",
    "def buffon_trial(n_length, t_length, trials):\n",
    "    dists = np.random.uniform(low=0, high=t_length/2.0, size=trials)\n",
    "    angles = np.random.uniform(low=0, high=np.pi/2.0, size=trials)\n",
    "    crosses = map(lambda x: isCrossed(dists[x],n_length,angles[x]),np.arange(trials))\n",
    "    return np.mean(crosses)"
   ]
  },
  {
   "cell_type": "code",
   "execution_count": 26,
   "metadata": {
    "collapsed": false
   },
   "outputs": [
    {
     "name": "stdout",
     "output_type": "stream",
     "text": [
      "---------------------------\n",
      "Needle Length:  0.1\n",
      "---------------------------\n",
      "Exact:  0.0636619772368\n",
      "Mean:  0.063792\n",
      "Standard deviation:  0.00785192562369\n",
      "---------------------------\n",
      "---------------------------\n",
      "Needle Length:  0.2\n",
      "---------------------------\n",
      "Exact:  0.127323954474\n",
      "Mean:  0.127796\n",
      "Standard deviation:  0.0109487160891\n",
      "---------------------------\n",
      "---------------------------\n",
      "Needle Length:  0.3\n",
      "---------------------------\n",
      "Exact:  0.19098593171\n",
      "Mean:  0.191198\n",
      "Standard deviation:  0.0131767521036\n",
      "---------------------------\n",
      "---------------------------\n",
      "Needle Length:  0.4\n",
      "---------------------------\n",
      "Exact:  0.254647908947\n",
      "Mean:  0.254722\n",
      "Standard deviation:  0.0139003854623\n",
      "---------------------------\n",
      "---------------------------\n",
      "Needle Length:  0.5\n",
      "---------------------------\n",
      "Exact:  0.318309886184\n",
      "Mean:  0.318893\n",
      "Standard deviation:  0.0150147777539\n",
      "---------------------------\n",
      "---------------------------\n",
      "Needle Length:  0.6\n",
      "---------------------------\n",
      "Exact:  0.381971863421\n",
      "Mean:  0.382241\n",
      "Standard deviation:  0.0151111521401\n",
      "---------------------------\n",
      "---------------------------\n",
      "Needle Length:  0.7\n",
      "---------------------------\n",
      "Exact:  0.445633840657\n",
      "Mean:  0.444762\n",
      "Standard deviation:  0.0158997910678\n",
      "---------------------------\n",
      "---------------------------\n",
      "Needle Length:  0.8\n",
      "---------------------------\n",
      "Exact:  0.509295817894\n",
      "Mean:  0.509735\n",
      "Standard deviation:  0.0159406014629\n",
      "---------------------------\n",
      "---------------------------\n",
      "Needle Length:  0.9\n",
      "---------------------------\n",
      "Exact:  0.572957795131\n",
      "Mean:  0.572529\n",
      "Standard deviation:  0.0161474195771\n",
      "---------------------------\n",
      "---------------------------\n",
      "Needle Length:  1.0\n",
      "---------------------------\n",
      "Exact:  0.636619772368\n",
      "Mean:  0.636475\n",
      "Standard deviation:  0.0151877376525\n",
      "---------------------------\n"
     ]
    },
    {
     "data": {
      "image/png": "[encoded data removed]",
      "text/plain": [
       "<matplotlib.figure.Figure at 0x10e25b610>"
      ]
     },
     "metadata": {},
     "output_type": "display_data"
    }
   ],
   "source": [
    "\"\"\"\n",
    "Now with our buffon_trial function, we will iterate through .1 - 1 in .1 increments with 1000 trials\n",
    "of 1000 trials. For each iteration we will plot a histogram of the results and compare it to the analytical \n",
    "solution\n",
    "\"\"\"\n",
    "n_lengths = np.arange(.1,1.1,.1)\n",
    "t_length = 1\n",
    "trials = 1000\n",
    "for n_length in n_lengths:\n",
    "    exact = (2*n_length)/(t_length*np.pi)\n",
    "    estimates = map(lambda x: buffon_trial(n_length, t_length, trials), np.zeros(trials))\n",
    "    plt.hist(estimates)\n",
    "    plt.xlabel(\"Estimate\")\n",
    "    plt.ylabel(\"Counts\")\n",
    "    plt.axvline(x=exact, color='r')\n",
    "    print \"---------------------------\"\n",
    "    print \"Needle Length: \", n_length\n",
    "    print \"---------------------------\"\n",
    "    print \"Exact: \", exact\n",
    "    print \"Mean: \", np.mean(estimates)\n",
    "    print \"Standard deviation: \", np.std(estimates)\n",
    "    print \"---------------------------\""
   ]
  },
  {
   "cell_type": "code",
   "execution_count": 27,
   "metadata": {
    "collapsed": false,
    "scrolled": false
   },
   "outputs": [
    {
     "name": "stdout",
     "output_type": "stream",
     "text": [
      "---------------------------\n",
      "Needle Length:  0.1\n",
      "---------------------------\n",
      "Exact:  0.0636619772368\n",
      "Mean:  0.063601\n",
      "Standard deviation:  0.0076716229704\n",
      "---------------------------\n",
      "---------------------------\n",
      "Needle Length:  0.2\n",
      "---------------------------\n",
      "Exact:  0.127323954474\n",
      "Mean:  0.127832\n",
      "Standard deviation:  0.0103901768994\n",
      "---------------------------\n",
      "---------------------------\n",
      "Needle Length:  0.3\n",
      "---------------------------\n",
      "Exact:  0.19098593171\n",
      "Mean:  0.191\n",
      "Standard deviation:  0.0119490585403\n",
      "---------------------------\n",
      "---------------------------\n",
      "Needle Length:  0.4\n",
      "---------------------------\n",
      "Exact:  0.254647908947\n",
      "Mean:  0.254688\n",
      "Standard deviation:  0.0139530160181\n",
      "---------------------------\n",
      "---------------------------\n",
      "Needle Length:  0.5\n",
      "---------------------------\n",
      "Exact:  0.318309886184\n",
      "Mean:  0.317922\n",
      "Standard deviation:  0.0144714863093\n",
      "---------------------------\n",
      "---------------------------\n",
      "Needle Length:  0.6\n",
      "---------------------------\n",
      "Exact:  0.381971863421\n",
      "Mean:  0.382964\n",
      "Standard deviation:  0.0158177338453\n",
      "---------------------------\n",
      "---------------------------\n",
      "Needle Length:  0.7\n",
      "---------------------------\n",
      "Exact:  0.445633840657\n",
      "Mean:  0.445192\n",
      "Standard deviation:  0.016821745926\n",
      "---------------------------\n",
      "---------------------------\n",
      "Needle Length:  0.8\n",
      "---------------------------\n",
      "Exact:  0.509295817894\n",
      "Mean:  0.509424\n",
      "Standard deviation:  0.0160709745815\n",
      "---------------------------\n",
      "---------------------------\n",
      "Needle Length:  0.9\n",
      "---------------------------\n",
      "Exact:  0.572957795131\n",
      "Mean:  0.572612\n",
      "Standard deviation:  0.0153815297029\n",
      "---------------------------\n",
      "---------------------------\n",
      "Needle Length:  1.0\n",
      "---------------------------\n",
      "Exact:  0.636619772368\n",
      "Mean:  0.636388\n",
      "Standard deviation:  0.0145207939177\n",
      "---------------------------\n",
      "---------------------------\n",
      "Needle Length:  1.1\n",
      "---------------------------\n",
      "Exact:  0.700281749604\n",
      "Mean:  0.68221\n",
      "Standard deviation:  0.0145860172768\n",
      "---------------------------\n",
      "---------------------------\n",
      "Needle Length:  1.2\n",
      "---------------------------\n",
      "Exact:  0.763943726841\n",
      "Mean:  0.714898\n",
      "Standard deviation:  0.014139363352\n",
      "---------------------------\n",
      "---------------------------\n",
      "Needle Length:  1.3\n",
      "---------------------------\n",
      "Exact:  0.827605704078\n",
      "Mean:  0.740265\n",
      "Standard deviation:  0.013872518697\n",
      "---------------------------\n",
      "---------------------------\n",
      "Needle Length:  1.4\n",
      "---------------------------\n",
      "Exact:  0.891267681315\n",
      "Mean:  0.760965\n",
      "Standard deviation:  0.0135474637848\n",
      "---------------------------\n",
      "---------------------------\n",
      "Needle Length:  1.5\n",
      "---------------------------\n",
      "Exact:  0.954929658551\n",
      "Mean:  0.778332\n",
      "Standard deviation:  0.0131878647248\n",
      "---------------------------\n",
      "---------------------------\n",
      "Needle Length:  1.6\n",
      "---------------------------\n",
      "Exact:  1.01859163579\n",
      "Mean:  0.792387\n",
      "Standard deviation:  0.0128637176197\n",
      "---------------------------\n",
      "---------------------------\n",
      "Needle Length:  1.7\n",
      "---------------------------\n",
      "Exact:  1.08225361302\n",
      "Mean:  0.806101\n",
      "Standard deviation:  0.0125272821873\n",
      "---------------------------\n",
      "---------------------------\n",
      "Needle Length:  1.8\n",
      "---------------------------\n",
      "Exact:  1.14591559026\n",
      "Mean:  0.817523\n",
      "Standard deviation:  0.0122081723038\n",
      "---------------------------\n",
      "---------------------------\n",
      "Needle Length:  1.9\n",
      "---------------------------\n",
      "Exact:  1.2095775675\n",
      "Mean:  0.828392\n",
      "Standard deviation:  0.0116683476122\n",
      "---------------------------\n",
      "---------------------------\n",
      "Needle Length:  2.0\n",
      "---------------------------\n",
      "Exact:  1.27323954474\n",
      "Mean:  0.83778\n",
      "Standard deviation:  0.011750897838\n",
      "---------------------------\n"
     ]
    },
    {
     "data": {
      "image/png": "[encoded data removed]",
      "text/plain": [
       "<matplotlib.figure.Figure at 0x10d37f310>"
      ]
     },
     "metadata": {},
     "output_type": "display_data"
    }
   ],
   "source": [
    "\"\"\"\n",
    "Copied from above with needle length now up to 2\n",
    "\"\"\"\n",
    "n_lengths = np.arange(.1,2.1,.1)\n",
    "t_length = 1\n",
    "trials = 1000\n",
    "for n_length in n_lengths:\n",
    "    exact = (2*n_length)/(t_length*np.pi)\n",
    "    estimates = map(lambda x: buffon_trial(n_length, t_length, trials), np.zeros(trials))\n",
    "    plt.hist(estimates)\n",
    "    plt.xlabel(\"Estimate\")\n",
    "    plt.ylabel(\"Counts\")\n",
    "    plt.axvline(x=exact, color='r')\n",
    "    print \"---------------------------\"\n",
    "    print \"Needle Length: \", n_length\n",
    "    print \"---------------------------\"\n",
    "    print \"Exact: \", exact\n",
    "    print \"Mean: \", np.mean(estimates)\n",
    "    print \"Standard deviation: \", np.std(estimates)\n",
    "    print \"---------------------------\""
   ]
  },
  {
   "cell_type": "markdown",
   "metadata": {},
   "source": [
    "Once the needle length exceeds 1, the length between tiles, the analytical solution starts overestimating the probability. The analytical solution is taking an integral, given an acute angle $\\theta$, from 0 to $\\frac{l}{2}sin\\theta$. This is now an overestimation when the length of the needle is larger than the length between tiles, as $\\frac{t}{2}$, the maximum length needed to get to the tile, can be less than that value. The integral is then not from 0 to $\\frac{l}{2}sin\\theta$ but only to $min(\\frac{l}{2}sin\\theta, \\frac{t}{2}$)"
   ]
  },
  {
   "cell_type": "markdown",
   "metadata": {},
   "source": [
    "# Problem 2: Simple Integration\n",
    "\n",
    "Write a function that estimates the value of a given one dimensional integral Monte Carlo style. \n",
    "The function should have the following signature:\n",
    "\n",
    "`estimate_integral_MC(function_to_integrate, lower_bound, upper_bound, number_of_samples, number_of_tries)`\n",
    "\n",
    "Where `number_of_tries` is used to calculate the standard deviation of the estimated value of the integral. \n",
    "\n",
    "Test your function by solving the following integrals:\n",
    "\n",
    "* $ \\int_0^3 x^{\\frac{x}{4}} \\,dx$\n",
    "* $ \\int_0^1 \\log x \\cdot \\log(1-x) \\,dx $.\n"
   ]
  },
  {
   "cell_type": "markdown",
   "metadata": {},
   "source": [
    "**Please answer this problem by adding cells here.**"
   ]
  },
  {
   "cell_type": "code",
   "execution_count": 28,
   "metadata": {
    "collapsed": true
   },
   "outputs": [],
   "source": [
    "def estimate_integral_MC(function_to_integrate, lower_bound, upper_bound, number_of_samples, number_of_tries):\n",
    "    estimates = [0]*number_of_tries\n",
    "    for trial in range(number_of_tries):\n",
    "        X = np.random.uniform(low=lower_bound, high=upper_bound, size=number_of_samples)\n",
    "        Y = function_to_integrate(X)\n",
    "        estimates[trial] = np.mean(Y)*(upper_bound-lower_bound)\n",
    "    return np.mean(estimates), np.std(estimates)"
   ]
  },
  {
   "cell_type": "code",
   "execution_count": 40,
   "metadata": {
    "collapsed": false
   },
   "outputs": [
    {
     "data": {
      "text/plain": [
       "(3.9155557243877466, 0.039493269082406052)"
      ]
     },
     "execution_count": 40,
     "metadata": {},
     "output_type": "execute_result"
    }
   ],
   "source": [
    "\"\"\"\n",
    "Test for x^(x/4) from 0 to 3\n",
    "\"\"\"\n",
    "estimate_integral_MC(lambda x: np.power(x,x/4.0), 0, 3, 1000, 1000)"
   ]
  },
  {
   "cell_type": "code",
   "execution_count": 41,
   "metadata": {
    "collapsed": false
   },
   "outputs": [
    {
     "data": {
      "text/plain": [
       "(0.35504317047661343, 0.0041596298694087019)"
      ]
     },
     "execution_count": 41,
     "metadata": {},
     "output_type": "execute_result"
    }
   ],
   "source": [
    "\"\"\"\n",
    "Test for logx*log(1-x) from 0 to 1\n",
    "\"\"\"\n",
    "estimate_integral_MC(lambda x: np.log(x)*np.log(1-x), 0, 1, 1000, 1000)"
   ]
  },
  {
   "cell_type": "markdown",
   "metadata": {},
   "source": [
    "# Problem 3: The Donut Estimation\n",
    "\n",
    "You bought a nice donut for yourself and decided to eat it in the evening while working on your AM207 assignments. \n",
    "Unfortunately you live in a shared apartment and your roommate got hold of the donut in the kitchen. It seems that he first\n",
    "cut off a small piece from the bottom, but then discovered how delicious the donut was and proceeded to cut off an additional large part. Discovering the donut theft in the evening you decide to confront your roommate, but you want to present hard facts and estimate how much of your original donut was left. \n",
    "\n",
    "Think of the donut as a 3D object(refer to the following picture). You model the donut as a torus centered at the origin`(0,0,0)` with outer radius `R=4` and inner radius `r=2`. Points $(x,y,z)$ inside the torus then are described by the following condition: \n",
    "$$z^2 + (\\sqrt{x^2 + y^2} - c)^2 \\leq a^2,$$\n",
    "where $c$ is the radius from origin to the center of the torus tube, and $a$ is the radius of the donut tube, the cross section of the donut tube is a circle.\n",
    "\n",
    "Your roomates cuts were first parallel to the x axis at y = -3, and then parallel to the y axis at x = 1.\n",
    "\n",
    "To estimate the weight of the donut you need to solve the integral\n",
    "\n",
    "$$ \\int_V \\rho \\,dx \\,dy \\,dz $$.\n",
    "\n",
    "Where $\\rho$ is the density of the donut and $V$ is the volume. As you are just interested in the percentage of the whole donut you got to eat, you can just assume $\\rho=1$.\n",
    "\n",
    "The weight of the whole original donut then was:\n",
    "\n",
    "$$ (\\pi a^2)\\cdot(2 \\cdot \\pi \\cdot c) $$\n",
    "\n",
    "What is the percentage of the donut your room mate left for you to eat? Don't forget to estimate the error as well!\n",
    "\n",
    "\n"
   ]
  },
  {
   "cell_type": "markdown",
   "metadata": {},
   "source": [
    "**Please answer this problem by adding cells here.**"
   ]
  },
  {
   "cell_type": "code",
   "execution_count": 1,
   "metadata": {
    "collapsed": false
   },
   "outputs": [
    {
     "data": {
      "text/plain": [
       "(1.0, 3.0)"
      ]
     },
     "execution_count": 1,
     "metadata": {},
     "output_type": "execute_result"
    }
   ],
   "source": [
    "\"\"\"\n",
    "First we need to convert from R,r to a,c in the formula. Given these definitions:\n",
    "R - r = diameter of donut tube, meaning a = (R-r)/2\n",
    "c = r + a\n",
    "\"\"\"\n",
    "R = 4\n",
    "r = 2\n",
    "a = (R-r)/2.0\n",
    "c = r + a\n",
    "a,c"
   ]
  },
  {
   "cell_type": "code",
   "execution_count": 4,
   "metadata": {
    "collapsed": false
   },
   "outputs": [
    {
     "name": "stdout",
     "output_type": "stream",
     "text": [
      "Original weight:  59.2176264065\n",
      "Estimate: 59.119488, Std Error: 2.12433097088\n"
     ]
    }
   ],
   "source": [
    "\"\"\"\n",
    "Let's now estimate the full weight of the donut, it should be close to the formula outlined\n",
    "We'll run 1000 trials of 1000 samples\n",
    "The bounds for x,y are calculated by setting all variables equal to 0 and solving for\n",
    "ranges\n",
    "\"\"\"\n",
    "orig_weight = (np.pi*np.power(a,2))*(2*np.pi*c)\n",
    "print \"Original weight: \", orig_weight\n",
    "N = 1000\n",
    "estimates = [0]*N\n",
    "for i in range(N):\n",
    "    X = np.random.uniform(low=-c-a, high=c+a, size=N)  \n",
    "    Y = np.random.uniform(low=-c-a, high=c+a, size=N)   \n",
    "    Z = np.random.uniform(low=-a, high=a, size=N)\n",
    "    F = np.power(Z,2) + np.power(np.power(np.power(X,2) + np.power(Y,2), .5)-c,2)\n",
    "    estimates[i] = np.sum(F<=np.power(a,2))*1./N*(8*np.power(c+a,2)*a)\n",
    "#number of points inside range/total number of points * area of box 2(c+a) x 2(c+a) x 2a\n",
    "print \"Estimate: {}, Std Error: {}\".format(np.mean(estimates), np.std(estimates))"
   ]
  },
  {
   "cell_type": "markdown",
   "metadata": {},
   "source": [
    "Looks like our method is working for the full donut weight case, now we restrict on y >= -3 and x <= 1 simultaneously and calculate the ratio of weights"
   ]
  },
  {
   "cell_type": "code",
   "execution_count": 11,
   "metadata": {
    "collapsed": false
   },
   "outputs": [
    {
     "name": "stdout",
     "output_type": "stream",
     "text": [
      "Estimate: 54.0002731289%, Std Error: 0.0190940586584\n"
     ]
    }
   ],
   "source": [
    "estimates = [0]*N\n",
    "for i in range(N):\n",
    "    X = np.random.uniform(low=-c-a, high=1, size=N)  \n",
    "    Y = np.random.uniform(low=-3, high=c+a, size=N)\n",
    "    Z = np.random.uniform(low=-a, high=a, size=N)\n",
    "    F = np.power(Z,2) + np.power(np.power(np.power(X,2) + np.power(Y,2), .5)-c,2)\n",
    "    #now area of box is (c+a+1) x (c+a+3) x (2a)\n",
    "    estimates[i] = np.sum(F<=np.power(a,2))*1./N*(c+a+1)*(3+c+a)*2*a/orig_weight\n",
    "print \"Estimate: {}%, Std Error: {}\".format(np.mean(estimates)*100, np.std(estimates))"
   ]
  },
  {
   "cell_type": "markdown",
   "metadata": {},
   "source": [
    "# Problem 4: New Years Resolutions\n",
    "\n",
    "A lot of people pledge to get more active in the new year. Unfortunately these resolutions often are short lived. We model the probability distribution of personal fitness over the months of a year with a skewed distribution:\n",
    "\n",
    "$ P(t) = \\lambda \\frac{(t-0.9)}{(t-1)^2 + 1}, \\; 1 \\leq t \\leq 12 $\n",
    "\n",
    "$ P(t) = 0 \\; otherwise$\n",
    "\n",
    "Where $t=1$ corresponds to January, $t=2$ corresponds to February, etc.. $\\lambda$ is a normalization constant, and t is measured in months ($t$ only takes integer values). \n",
    "\n",
    "* Plot the given distribution and compute the normalization factor\n",
    "* Sample $10^5$ samples from the distribution given above using rejection sampling. \n",
    "* Plot the histogram of the simulated samples and compare it to the true distribution (hint: It's easiest to use the normalization factor computed above and then plot the normed version of the histogram against it.\n",
    "* Repeat the first two steps using the inverse transform instead of rejection sampling. Do not bother with getting the anti-derivative analytically. Just build a lookup table for it. \n",
    "* Compare the execution time of both methods. Which one is faster and why? When would you prefer a lookup table and when an analytical solution to the anti-derivative?"
   ]
  },
  {
   "cell_type": "markdown",
   "metadata": {},
   "source": [
    "**Please answer this problem by adding cells here.**"
   ]
  },
  {
   "cell_type": "code",
   "execution_count": 2,
   "metadata": {
    "collapsed": false
   },
   "outputs": [
    {
     "name": "stdout",
     "output_type": "stream",
     "text": [
      "Normalization factor:  0.39239711027\n",
      "Std Error:  0.0555634721091\n"
     ]
    },
    {
     "data": {
      "text/plain": [
       "<matplotlib.text.Text at 0x10cc6e510>"
      ]
     },
     "execution_count": 2,
     "metadata": {},
     "output_type": "execute_result"
    },
    {
     "data": {
      "image/png": "[encoded data removed]",
      "text/plain": [
       "<matplotlib.figure.Figure at 0x10cbe6150>"
      ]
     },
     "metadata": {},
     "output_type": "display_data"
    }
   ],
   "source": [
    "def f(x):\n",
    "    return (x-0.9)/(np.power(x-1,2) + 1)\n",
    "\"\"\"\n",
    "Calculating the normalization factor, first we integrate the fraction from 1 to 12\n",
    "with 1000 trials 1000 times\n",
    "\"\"\"\n",
    "N = 1000\n",
    "estimates = [0]*N\n",
    "for i in range(N):\n",
    "    X = np.random.randint(low=1, high=13, size=N)\n",
    "    Y = f(X)\n",
    "    estimates[i] = np.mean(Y)*12\n",
    "norm_factor = 1/np.mean(estimates)\n",
    "print \"Normalization factor: \", norm_factor\n",
    "print \"Std Error: \", np.std(estimates)\n",
    "\n",
    "\"\"\"\n",
    "Now we plot the distribution with this norm_factor\n",
    "\"\"\"\n",
    "plt.plot(range(1,13), map(lambda x: norm_factor*f(x), range(1,13)))\n",
    "plt.xlabel(\"Month\")\n",
    "plt.ylabel(\"Fitness\")"
   ]
  },
  {
   "cell_type": "code",
   "execution_count": 10,
   "metadata": {
    "collapsed": false
   },
   "outputs": [
    {
     "name": "stdout",
     "output_type": "stream",
     "text": [
      "Total samples drawn:  258776\n",
      "Number of accepted samples:  100000\n",
      "Time:  2.36379384995\n"
     ]
    },
    {
     "data": {
      "text/plain": [
       "<matplotlib.text.Text at 0x10e205dd0>"
      ]
     },
     "execution_count": 10,
     "metadata": {},
     "output_type": "execute_result"
    },
    {
     "data": {
      "image/png": "[encoded data removed]",
      "text/plain": [
       "<matplotlib.figure.Figure at 0x10e19d750>"
      ]
     },
     "metadata": {},
     "output_type": "display_data"
    }
   ],
   "source": [
    "\"\"\"\n",
    "Rejection sampling\n",
    "\"\"\"\n",
    "start = time.time()\n",
    "N = 100000\n",
    "accepted = 0\n",
    "samples = np.zeros(N)\n",
    "count = 0\n",
    "\n",
    "while (accepted < N):\n",
    "    x = np.random.randint(1, 13)\n",
    "    y = np.random.uniform(0,f(2)*norm_factor)\n",
    "    \n",
    "    if y < f(x)*norm_factor:\n",
    "        samples[accepted] = x\n",
    "        accepted += 1\n",
    "    \n",
    "    count +=1\n",
    "    \n",
    "print \"Total samples drawn: \",count\n",
    "print \"Number of accepted samples: \", accepted\n",
    "print \"Time: \", time.time()-start\n",
    "plt.hist(samples,bins=12, label=u'Samples', alpha=0.5, normed=True);\n",
    "plt.xlabel(\"Month\")\n",
    "plt.ylabel(\"Fitness\")"
   ]
  },
  {
   "cell_type": "code",
   "execution_count": 11,
   "metadata": {
    "collapsed": false
   },
   "outputs": [
    {
     "name": "stdout",
     "output_type": "stream",
     "text": [
      "Time:  0.17342710495\n"
     ]
    },
    {
     "data": {
      "text/plain": [
       "<matplotlib.text.Text at 0x10de03850>"
      ]
     },
     "execution_count": 11,
     "metadata": {},
     "output_type": "execute_result"
    },
    {
     "data": {
      "image/png": "[encoded data removed]",
      "text/plain": [
       "<matplotlib.figure.Figure at 0x10dd928d0>"
      ]
     },
     "metadata": {},
     "output_type": "display_data"
    }
   ],
   "source": [
    "\"\"\"\n",
    "Inverse transform\n",
    "\"\"\"\n",
    "start = time.time()\n",
    "N = 100000\n",
    "lookup = [0]*12\n",
    "lookup[0] = f(1)*norm_factor\n",
    "for i in range(1,12):\n",
    "    lookup[i] = lookup[i-1] + f(i+1)*norm_factor\n",
    "    \n",
    "#given random value, return first index with larger cdf\n",
    "def invLookup(val):\n",
    "    high = 11\n",
    "    low = 0\n",
    "    while high >= low:\n",
    "        mid = low + (high-low)/2\n",
    "        if lookup[mid] >= val and (mid == 0 or lookup[mid-1] < val):\n",
    "            return mid+1\n",
    "        elif lookup[mid] > val:\n",
    "            high = mid-1\n",
    "        else:\n",
    "            low = mid+1\n",
    "            \n",
    "R = np.random.uniform(0,lookup[11],N)\n",
    "X = map(lambda x: invLookup(x), R)\n",
    "print \"Time: \", time.time() - start\n",
    "plt.hist(X,bins=12, label=u'Samples', alpha=0.5, normed=True);\n",
    "plt.xlabel(\"Month\")\n",
    "plt.ylabel(\"Fitness\")"
   ]
  },
  {
   "cell_type": "markdown",
   "metadata": {},
   "source": [
    "The inverse transform is much faster because in the case of rejection sampling to get the 100000 points you actually needed to generate 2.5x that many points whereas with the inverse transform each random number generates a point on the distribution. Also making the lookup use binary search added to the speed efficiency. It makes sense to use a lookup table when the distribution is discrete especially because the binary search can be very efficient even for millions of points, whereas if it's continuous like the case of e^(-x) in the lecture notebook it would make more sense to use a lookup table"
   ]
  },
  {
   "cell_type": "markdown",
   "metadata": {},
   "source": [
    "# Problem 5: Give it all!\n",
    "\n",
    "Estimate the following integral:\n",
    "\n",
    "$ \\int_{-1}^{1} \\int_{-1}^{1}  f(x,y) \\,dx \\,dy$, with \n",
    "\n",
    "$g_1(x,y) = -(x+0.4)^2 - (y+0.4)^2 + 0.1$\n",
    "\n",
    "$g_2(x,y) = -(x-0.4)^2 - (y-0.4)^2 + 0.05$\n",
    "\n",
    "$f(x,y) = \\max(g_1(x,y), 0) + \\max(g_2(x,y), 0)$\n",
    "\n",
    "\n",
    "First use basic Monte Carlo estimation. Then apply different variance reduction techniques we discussed in the lecture: \n",
    "* stratified sampling, \n",
    "* control variates, \n",
    "* importance sampling\n",
    "\n",
    "For each technique give a short explanation of how you are applying it to the problem. Implement the different techniques and then make a table and compare the results with respect to run-time and error in the estimate. \n",
    "\n",
    "You can choose to also either apply and explain antithetic variates, or explain why you don't think they are useful in this case, and how they could benefit of being combined with one of the techniques listed above. "
   ]
  },
  {
   "cell_type": "markdown",
   "metadata": {},
   "source": [
    "**Please answer this problem by adding cells here.**"
   ]
  },
  {
   "cell_type": "code",
   "execution_count": 22,
   "metadata": {
    "collapsed": true
   },
   "outputs": [],
   "source": [
    "\"\"\"\n",
    "First define functions to g1,g2 and f\n",
    "\"\"\"\n",
    "def g1(x,y):\n",
    "    return -np.power(x+0.4,2) - np.power(y+0.4,2) + 0.1\n",
    "def g2(x,y):\n",
    "    return -np.power(x-0.4,2) - np.power(y-0.4,2) + 0.05\n",
    "def f(x,y):\n",
    "    return np.maximum(g1(x,y),0) + np.maximum(g2(x,y),0)"
   ]
  },
  {
   "cell_type": "code",
   "execution_count": 75,
   "metadata": {
    "collapsed": false
   },
   "outputs": [],
   "source": [
    "results = {}\n",
    "\n",
    "\"\"\"\n",
    "Basic Monte Carlo\n",
    "volume * average\n",
    "\"\"\"\n",
    "N = 1000\n",
    "estimates = [0]*N\n",
    "volume = 4\n",
    "start = time.time()\n",
    "for i in range(N):\n",
    "    X = np.random.uniform(-1,1,N)\n",
    "    Y = np.random.uniform(-1,1,N)\n",
    "    F = f(X,Y)\n",
    "    estimates[i] = np.mean(F)\n",
    "results[\"Basic\"] = (np.mean(estimates)*volume, np.std(estimates)*volume, time.time() - start)"
   ]
  },
  {
   "cell_type": "code",
   "execution_count": 77,
   "metadata": {
    "collapsed": false
   },
   "outputs": [],
   "source": [
    "\"\"\"\n",
    "Stratified Sampling\n",
    "Divide xy-block into 10x10 pieces and integrate over each piece and sum together\n",
    "\"\"\"\n",
    "N = 1000\n",
    "M = 10.0\n",
    "step = 2/M\n",
    "volume = step*step\n",
    "#loop of trials\n",
    "start = time.time()\n",
    "for i in range(N):\n",
    "    xmin = -1.\n",
    "    xmax = -1+step\n",
    "    ymin = -1.\n",
    "    ymax = -1+step\n",
    "    sum_est = 0\n",
    "    #loop through different X strata\n",
    "    for x_step in range(int(M)):\n",
    "        #loop through different Y strata\n",
    "        for y_step in range(int(M)):\n",
    "            x = np.random.uniform(low=xmin, high=xmax, size=int(N/(M*M)))\n",
    "            y = np.random.uniform(low=ymin, high=ymax, size=int(N/(M*M)))\n",
    "            sum_est += np.mean(f(x,y))\n",
    "            ymin += step\n",
    "            ymax += step\n",
    "            if ymax > 1.0:\n",
    "                ymin = -1.\n",
    "                ymax = -1.+step\n",
    "        xmin += step\n",
    "        xmax += step\n",
    "    estimates[i] = sum_est\n",
    "results[\"Strat\"] = (np.mean(estimates)*volume, np.std(estimates)*volume, time.time() - start)"
   ]
  },
  {
   "cell_type": "code",
   "execution_count": 91,
   "metadata": {
    "collapsed": true
   },
   "outputs": [],
   "source": [
    "\"\"\"\n",
    "Control variate\n",
    "Need to find correlated function that we know the integral of\n",
    "max(g1) and max(g2) are both correlated to f as you can't have the case\n",
    "where one goes up and the other goes down. We also know that they're both\n",
    "essentially circles so we can calculate the expected area. So we can use\n",
    "max(g1) as our similar function to remove some variance\n",
    "\"\"\"\n",
    "N = 1000\n",
    "#max(g1) is circle with r^2 of 0.1 and values range from 0 to .1 so average is .1/2\n",
    "#volume is 2x2\n",
    "volume = 4\n",
    "tau = np.pi*(.1)*(.1/2)/volume\n",
    "start = time.time()\n",
    "for i in range(N):\n",
    "    X = np.random.uniform( low=-1, high=1, size=N)\n",
    "    Y = np.random.uniform( low=-1, high=1, size=N)\n",
    "    XY = zip(X,Y)\n",
    "    C = map(lambda x: np.maximum(g1(x[0],x[1]), 0.0), XY)\n",
    "    F = map(lambda x: f(x[0],x[1]), XY)\n",
    "    q = np.cov(C,F)\n",
    "    b =- q[0,1]/np.var(C)\n",
    "    estimates[i] = np.mean(F) + b *(np.mean(C) - tau)\n",
    "results[\"CtrlV\"] = (np.mean(estimates)*volume, np.std(estimates)*volume, time.time() - start)"
   ]
  },
  {
   "cell_type": "code",
   "execution_count": 97,
   "metadata": {
    "collapsed": false
   },
   "outputs": [
    {
     "name": "stdout",
     "output_type": "stream",
     "text": [
      "Results of the form (estimate, error, time)\n",
      "CtrlV (0.019653598905323606, 0.0006899921205969009, 26.827167987823486)\n",
      "Strat (0.019586791721945062, 0.00085185222388736747, 5.458217144012451)\n",
      "Basic (0.019550021994156744, 0.0020306626304605652, 0.26868700981140137)\n"
     ]
    }
   ],
   "source": [
    "print \"Results of the form (estimate, error, time)\"\n",
    "for technique,result in results.iteritems():\n",
    "    print technique, result"
   ]
  },
  {
   "cell_type": "code",
   "execution_count": null,
   "metadata": {
    "collapsed": true
   },
   "outputs": [],
   "source": []
  }
 ],
 "metadata": {
  "kernelspec": {
   "display_name": "Python 2",
   "language": "python",
   "name": "python2"
  },
  "language_info": {
   "codemirror_mode": {
    "name": "ipython",
    "version": 2
   },
   "file_extension": ".py",
   "mimetype": "text/x-python",
   "name": "python",
   "nbconvert_exporter": "python",
   "pygments_lexer": "ipython2",
   "version": "2.7.11"
  }
 },
 "nbformat": 4,
 "nbformat_minor": 0
}
